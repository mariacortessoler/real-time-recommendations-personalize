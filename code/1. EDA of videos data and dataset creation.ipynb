{
 "cells": [
  {
   "cell_type": "markdown",
   "metadata": {},
   "source": [
    "# Exploratory analysis and generation of the user-videos interactions data\n",
    "\n",
    "This notebook generates the final interactions data ready for modeling. The data is saved in a local .csv file and in S3 for further usage in creating the Personalize interactions dataset to drive Personalize recommendation models. it is worth mentioning that the digital videos data was taken from the Registry of Open Data on AWS: https://registry.opendata.aws/amazon-reviews/"
   ]
  },
  {
   "cell_type": "markdown",
   "metadata": {},
   "source": [
    "<a id='contents' />\n",
    "\n",
    "## Content Table\n",
    "\n",
    "1. [Loading libraries and data](#loading)\n",
    "2. [Data Exploration and cleaning](#analysis)\n",
    "3. [Final data transformation and upload to S3](#dump)"
   ]
  },
  {
   "cell_type": "markdown",
   "metadata": {},
   "source": [
    "<a id='loading' />\n",
    "\n",
    "## Loading libraries and data\n",
    "[(back to top)](#contents)"
   ]
  },
  {
   "cell_type": "code",
   "execution_count": 1,
   "metadata": {},
   "outputs": [],
   "source": [
    "import numpy as np\n",
    "import pandas as pd\n",
    "import json\n",
    "import datetime\n",
    "import matplotlib.pyplot as plt\n",
    "from sklearn.utils import shuffle\n",
    "import boto3\n",
    "import sagemaker\n",
    "from sagemaker import get_execution_role\n",
    "import seaborn as sns\n",
    "import os\n",
    "from collections import Counter"
   ]
  },
  {
   "cell_type": "markdown",
   "metadata": {},
   "source": [
    "The following code defines the location of the digital video downloads data"
   ]
  },
  {
   "cell_type": "code",
   "execution_count": 2,
   "metadata": {},
   "outputs": [],
   "source": [
    "role=get_execution_role()\n",
    "bucket   = '<YOUR-BUCKER-NAME>'\n",
    "prefix   = 'raw_data'\n",
    "data_key = 'amazon_reviews_us_Digital_Video_Download_v1_00.tsv.gz'\n",
    "data_location = 's3://{}/{}/{}'.format(bucket, prefix, data_key)"
   ]
  },
  {
   "cell_type": "code",
   "execution_count": 3,
   "metadata": {},
   "outputs": [
    {
     "data": {
      "text/html": [
       "<div>\n",
       "<style scoped>\n",
       "    .dataframe tbody tr th:only-of-type {\n",
       "        vertical-align: middle;\n",
       "    }\n",
       "\n",
       "    .dataframe tbody tr th {\n",
       "        vertical-align: top;\n",
       "    }\n",
       "\n",
       "    .dataframe thead th {\n",
       "        text-align: right;\n",
       "    }\n",
       "</style>\n",
       "<table border=\"1\" class=\"dataframe\">\n",
       "  <thead>\n",
       "    <tr style=\"text-align: right;\">\n",
       "      <th></th>\n",
       "      <th>marketplace</th>\n",
       "      <th>customer_id</th>\n",
       "      <th>review_id</th>\n",
       "      <th>product_id</th>\n",
       "      <th>product_parent</th>\n",
       "      <th>product_title</th>\n",
       "      <th>product_category</th>\n",
       "      <th>star_rating</th>\n",
       "      <th>helpful_votes</th>\n",
       "      <th>total_votes</th>\n",
       "      <th>vine</th>\n",
       "      <th>verified_purchase</th>\n",
       "      <th>review_headline</th>\n",
       "      <th>review_body</th>\n",
       "      <th>review_date</th>\n",
       "    </tr>\n",
       "  </thead>\n",
       "  <tbody>\n",
       "    <tr>\n",
       "      <th>0</th>\n",
       "      <td>US</td>\n",
       "      <td>12190288</td>\n",
       "      <td>R3FU16928EP5TC</td>\n",
       "      <td>B00AYB1482</td>\n",
       "      <td>668895143</td>\n",
       "      <td>Enlightened: Season 1</td>\n",
       "      <td>Digital_Video_Download</td>\n",
       "      <td>5</td>\n",
       "      <td>0</td>\n",
       "      <td>0</td>\n",
       "      <td>N</td>\n",
       "      <td>Y</td>\n",
       "      <td>I loved it and I wish there was a season 3</td>\n",
       "      <td>I loved it and I wish there was a season 3... ...</td>\n",
       "      <td>2015-08-31</td>\n",
       "    </tr>\n",
       "    <tr>\n",
       "      <th>1</th>\n",
       "      <td>US</td>\n",
       "      <td>30549954</td>\n",
       "      <td>R1IZHHS1MH3AQ4</td>\n",
       "      <td>B00KQD28OM</td>\n",
       "      <td>246219280</td>\n",
       "      <td>Vicious</td>\n",
       "      <td>Digital_Video_Download</td>\n",
       "      <td>5</td>\n",
       "      <td>0</td>\n",
       "      <td>0</td>\n",
       "      <td>N</td>\n",
       "      <td>Y</td>\n",
       "      <td>As always it seems that the best shows come fr...</td>\n",
       "      <td>As always it seems that the best shows come fr...</td>\n",
       "      <td>2015-08-31</td>\n",
       "    </tr>\n",
       "    <tr>\n",
       "      <th>2</th>\n",
       "      <td>US</td>\n",
       "      <td>52895410</td>\n",
       "      <td>R52R85WC6TIAH</td>\n",
       "      <td>B01489L5LQ</td>\n",
       "      <td>534732318</td>\n",
       "      <td>After Words</td>\n",
       "      <td>Digital_Video_Download</td>\n",
       "      <td>4</td>\n",
       "      <td>17</td>\n",
       "      <td>18</td>\n",
       "      <td>N</td>\n",
       "      <td>Y</td>\n",
       "      <td>Charming movie</td>\n",
       "      <td>This movie isn't perfect, but it gets a lot of...</td>\n",
       "      <td>2015-08-31</td>\n",
       "    </tr>\n",
       "    <tr>\n",
       "      <th>3</th>\n",
       "      <td>US</td>\n",
       "      <td>27072354</td>\n",
       "      <td>R7HOOYTVIB0DS</td>\n",
       "      <td>B008LOVIIK</td>\n",
       "      <td>239012694</td>\n",
       "      <td>Masterpiece: Inspector Lewis Season 5</td>\n",
       "      <td>Digital_Video_Download</td>\n",
       "      <td>5</td>\n",
       "      <td>0</td>\n",
       "      <td>0</td>\n",
       "      <td>N</td>\n",
       "      <td>Y</td>\n",
       "      <td>Five Stars</td>\n",
       "      <td>excellant this is what tv should be</td>\n",
       "      <td>2015-08-31</td>\n",
       "    </tr>\n",
       "    <tr>\n",
       "      <th>4</th>\n",
       "      <td>US</td>\n",
       "      <td>26939022</td>\n",
       "      <td>R1XQ2N5CDOZGNX</td>\n",
       "      <td>B0094LZMT0</td>\n",
       "      <td>535858974</td>\n",
       "      <td>On The Waterfront</td>\n",
       "      <td>Digital_Video_Download</td>\n",
       "      <td>5</td>\n",
       "      <td>0</td>\n",
       "      <td>0</td>\n",
       "      <td>N</td>\n",
       "      <td>Y</td>\n",
       "      <td>Brilliant film from beginning to end</td>\n",
       "      <td>Brilliant film from beginning to end. All of t...</td>\n",
       "      <td>2015-08-31</td>\n",
       "    </tr>\n",
       "  </tbody>\n",
       "</table>\n",
       "</div>"
      ],
      "text/plain": [
       "  marketplace  customer_id       review_id  product_id  product_parent  \\\n",
       "0          US     12190288  R3FU16928EP5TC  B00AYB1482       668895143   \n",
       "1          US     30549954  R1IZHHS1MH3AQ4  B00KQD28OM       246219280   \n",
       "2          US     52895410   R52R85WC6TIAH  B01489L5LQ       534732318   \n",
       "3          US     27072354   R7HOOYTVIB0DS  B008LOVIIK       239012694   \n",
       "4          US     26939022  R1XQ2N5CDOZGNX  B0094LZMT0       535858974   \n",
       "\n",
       "                           product_title        product_category  star_rating  \\\n",
       "0                  Enlightened: Season 1  Digital_Video_Download            5   \n",
       "1                                Vicious  Digital_Video_Download            5   \n",
       "2                            After Words  Digital_Video_Download            4   \n",
       "3  Masterpiece: Inspector Lewis Season 5  Digital_Video_Download            5   \n",
       "4                      On The Waterfront  Digital_Video_Download            5   \n",
       "\n",
       "   helpful_votes  total_votes vine verified_purchase  \\\n",
       "0              0            0    N                 Y   \n",
       "1              0            0    N                 Y   \n",
       "2             17           18    N                 Y   \n",
       "3              0            0    N                 Y   \n",
       "4              0            0    N                 Y   \n",
       "\n",
       "                                     review_headline  \\\n",
       "0         I loved it and I wish there was a season 3   \n",
       "1  As always it seems that the best shows come fr...   \n",
       "2                                     Charming movie   \n",
       "3                                         Five Stars   \n",
       "4               Brilliant film from beginning to end   \n",
       "\n",
       "                                         review_body review_date  \n",
       "0  I loved it and I wish there was a season 3... ...  2015-08-31  \n",
       "1  As always it seems that the best shows come fr...  2015-08-31  \n",
       "2  This movie isn't perfect, but it gets a lot of...  2015-08-31  \n",
       "3                excellant this is what tv should be  2015-08-31  \n",
       "4  Brilliant film from beginning to end. All of t...  2015-08-31  "
      ]
     },
     "execution_count": 3,
     "metadata": {},
     "output_type": "execute_result"
    }
   ],
   "source": [
    "df=pd.read_csv(data_location, delimiter='\\t', error_bad_lines=False, warn_bad_lines=False)\n",
    "df.head()"
   ]
  },
  {
   "cell_type": "markdown",
   "metadata": {},
   "source": [
    "**Dataset general information:** Brief description of each column"
   ]
  },
  {
   "cell_type": "markdown",
   "metadata": {},
   "source": [
    "|     Variable    |                    Description                   | \n",
    "|:--------------------:|:----------------------------------------------------------:|\n",
    "marketplace|2-letter country code (in this case all \"US\").\n",
    "customer_id|Random identifier that can be used to aggregate reviews written by a single author.\n",
    "review_id|A unique ID for the review.\n",
    "product_id|The Amazon Standard Identification Number (ASIN). Http://www.amazon.com/dp/ links to the product's detail page.\n",
    "product_parent|The parent of that ASIN. Multiple ASINs (color or format variations of the same product) can roll up into a single parent parent.\n",
    "product_title|Title description of the product.\n",
    "product_category|Broad product category that can be used to group reviews (in this case digital videos).\n",
    "star_rating|The review's rating (1 to 5 stars).\n",
    "helpful_votes|Number of helpful votes for the review.\n",
    "total_votes|Number of total votes the review received.\n",
    "vine|Was the review written as part of the Vine program?\n",
    "verified_purchase|Was the review from a verified purchase?\n",
    "review_headline|The title of the review itself.\n",
    "review_body|The text of the review.\n",
    "review_date|The date the review was written."
   ]
  },
  {
   "cell_type": "markdown",
   "metadata": {},
   "source": [
    "<a id='analysis' />\n",
    "\n",
    "## Data exploration and cleaning\n",
    "[(back to top)](#contents)"
   ]
  },
  {
   "cell_type": "markdown",
   "metadata": {},
   "source": [
    "#### Number of records"
   ]
  },
  {
   "cell_type": "code",
   "execution_count": 4,
   "metadata": {},
   "outputs": [
    {
     "data": {
      "text/plain": [
       "3998345"
      ]
     },
     "execution_count": 4,
     "metadata": {},
     "output_type": "execute_result"
    }
   ],
   "source": [
    "#Number of records\n",
    "len(df)"
   ]
  },
  {
   "cell_type": "code",
   "execution_count": 5,
   "metadata": {},
   "outputs": [
    {
     "data": {
      "text/plain": [
       "2018155"
      ]
     },
     "execution_count": 5,
     "metadata": {},
     "output_type": "execute_result"
    }
   ],
   "source": [
    "df.customer_id.nunique()"
   ]
  },
  {
   "cell_type": "code",
   "execution_count": 6,
   "metadata": {},
   "outputs": [
    {
     "data": {
      "text/plain": [
       "90627"
      ]
     },
     "execution_count": 6,
     "metadata": {},
     "output_type": "execute_result"
    }
   ],
   "source": [
    "df.product_title.nunique()"
   ]
  },
  {
   "cell_type": "markdown",
   "metadata": {},
   "source": [
    "**Data types**"
   ]
  },
  {
   "cell_type": "code",
   "execution_count": 7,
   "metadata": {},
   "outputs": [
    {
     "name": "stdout",
     "output_type": "stream",
     "text": [
      "<class 'pandas.core.frame.DataFrame'>\n",
      "RangeIndex: 3998345 entries, 0 to 3998344\n",
      "Data columns (total 15 columns):\n",
      " #   Column             Dtype \n",
      "---  ------             ----- \n",
      " 0   marketplace        object\n",
      " 1   customer_id        int64 \n",
      " 2   review_id          object\n",
      " 3   product_id         object\n",
      " 4   product_parent     int64 \n",
      " 5   product_title      object\n",
      " 6   product_category   object\n",
      " 7   star_rating        int64 \n",
      " 8   helpful_votes      int64 \n",
      " 9   total_votes        int64 \n",
      " 10  vine               object\n",
      " 11  verified_purchase  object\n",
      " 12  review_headline    object\n",
      " 13  review_body        object\n",
      " 14  review_date        object\n",
      "dtypes: int64(5), object(10)\n",
      "memory usage: 457.6+ MB\n"
     ]
    }
   ],
   "source": [
    "df.info()"
   ]
  },
  {
   "cell_type": "markdown",
   "metadata": {},
   "source": [
    "**Review date analysis**"
   ]
  },
  {
   "cell_type": "markdown",
   "metadata": {},
   "source": [
    "Change review date type to datetime"
   ]
  },
  {
   "cell_type": "code",
   "execution_count": 8,
   "metadata": {},
   "outputs": [],
   "source": [
    "df['review_date']=pd.to_datetime(df['review_date'])"
   ]
  },
  {
   "cell_type": "code",
   "execution_count": 9,
   "metadata": {},
   "outputs": [
    {
     "name": "stderr",
     "output_type": "stream",
     "text": [
      "/home/ec2-user/anaconda3/envs/python3/lib/python3.6/site-packages/numpy/lib/histograms.py:839: RuntimeWarning: invalid value encountered in greater_equal\n",
      "  keep = (tmp_a >= first_edge)\n",
      "/home/ec2-user/anaconda3/envs/python3/lib/python3.6/site-packages/numpy/lib/histograms.py:840: RuntimeWarning: invalid value encountered in less_equal\n",
      "  keep &= (tmp_a <= last_edge)\n"
     ]
    },
    {
     "data": {
      "image/png": "[encoded data removed]",
      "text/plain": [
       "<Figure size 432x288 with 1 Axes>"
      ]
     },
     "metadata": {
      "needs_background": "light"
     },
     "output_type": "display_data"
    }
   ],
   "source": [
    "#Reviews by time\n",
    "plt.hist(df['review_date'], 50, color = \"skyblue\")\n",
    "title_string='Histogram of review date'\n",
    "plt.xlabel('Review date')\n",
    "plt.ylabel('Number of reviews')\n",
    "plt.title(title_string)\n",
    "plt.show()"
   ]
  },
  {
   "cell_type": "code",
   "execution_count": 10,
   "metadata": {},
   "outputs": [],
   "source": [
    "#We will count reviews by year\n",
    "df['year']=df.review_date.dt.year"
   ]
  },
  {
   "cell_type": "code",
   "execution_count": 11,
   "metadata": {},
   "outputs": [
    {
     "data": {
      "text/plain": [
       "Timestamp('2015-08-31 00:00:00')"
      ]
     },
     "execution_count": 11,
     "metadata": {},
     "output_type": "execute_result"
    }
   ],
   "source": [
    "df['review_date'].max()"
   ]
  },
  {
   "cell_type": "code",
   "execution_count": 12,
   "metadata": {},
   "outputs": [
    {
     "data": {
      "text/plain": [
       "2015.0    1554812\n",
       "2014.0    1543049\n",
       "2013.0     721748\n",
       "2012.0     142466\n",
       "2011.0      20890\n",
       "2010.0       6091\n",
       "2009.0       3262\n",
       "2008.0       3079\n",
       "2007.0       2597\n",
       "2006.0        185\n",
       "2005.0         11\n",
       "2004.0          6\n",
       "2002.0          5\n",
       "2003.0          4\n",
       "2001.0          1\n",
       "2000.0          1\n",
       "Name: year, dtype: int64"
      ]
     },
     "execution_count": 12,
     "metadata": {},
     "output_type": "execute_result"
    }
   ],
   "source": [
    "df['year'].value_counts()"
   ]
  },
  {
   "cell_type": "markdown",
   "metadata": {},
   "source": [
    "**Years to include:** Just around 0.4% of the reviews were made before 2011, so for the model I just included data from 2011 and later."
   ]
  },
  {
   "cell_type": "code",
   "execution_count": 15,
   "metadata": {},
   "outputs": [
    {
     "data": {
      "text/plain": [
       "3982965"
      ]
     },
     "execution_count": 15,
     "metadata": {},
     "output_type": "execute_result"
    }
   ],
   "source": [
    "len(df[df['year']>=2011])"
   ]
  },
  {
   "cell_type": "code",
   "execution_count": 16,
   "metadata": {},
   "outputs": [],
   "source": [
    "#We will just consider the reviews from 2011 and later, for being more recent\n",
    "df=df[df['year']>=2011]"
   ]
  },
  {
   "cell_type": "code",
   "execution_count": 17,
   "metadata": {},
   "outputs": [
    {
     "data": {
      "image/png": "[encoded data removed]",
      "text/plain": [
       "<Figure size 432x288 with 1 Axes>"
      ]
     },
     "metadata": {
      "needs_background": "light"
     },
     "output_type": "display_data"
    }
   ],
   "source": [
    "#Reviews by time\n",
    "plt.figure()\n",
    "plt.hist(df['review_date'], 50, color = \"skyblue\")\n",
    "title_string='Histogram of review date'\n",
    "plt.xlabel('Review year')\n",
    "plt.ylabel('Number Reviews')\n",
    "plt.title(title_string)\n",
    "plt.show()"
   ]
  },
  {
   "cell_type": "markdown",
   "metadata": {},
   "source": [
    "**Check for null values:**"
   ]
  },
  {
   "cell_type": "code",
   "execution_count": 18,
   "metadata": {},
   "outputs": [
    {
     "data": {
      "text/plain": [
       "marketplace           0\n",
       "customer_id           0\n",
       "review_id             0\n",
       "product_id            0\n",
       "product_parent        0\n",
       "product_title         0\n",
       "product_category      0\n",
       "star_rating           0\n",
       "helpful_votes         0\n",
       "total_votes           0\n",
       "vine                  0\n",
       "verified_purchase     0\n",
       "review_headline      24\n",
       "review_body          78\n",
       "review_date           0\n",
       "year                  0\n",
       "dtype: int64"
      ]
     },
     "execution_count": 18,
     "metadata": {},
     "output_type": "execute_result"
    }
   ],
   "source": [
    "df.isnull().sum()"
   ]
  },
  {
   "cell_type": "markdown",
   "metadata": {},
   "source": [
    "As we are not using the review headline and bosy, these null values do not affect the database"
   ]
  },
  {
   "cell_type": "markdown",
   "metadata": {},
   "source": [
    "**Investigate product_id and product_title.** We will ensure that there are not duplicated reviews of the same product name"
   ]
  },
  {
   "cell_type": "code",
   "execution_count": 19,
   "metadata": {},
   "outputs": [
    {
     "data": {
      "text/plain": [
       "163187"
      ]
     },
     "execution_count": 19,
     "metadata": {},
     "output_type": "execute_result"
    }
   ],
   "source": [
    "df.product_id.nunique()"
   ]
  },
  {
   "cell_type": "code",
   "execution_count": 20,
   "metadata": {},
   "outputs": [
    {
     "data": {
      "text/plain": [
       "88737"
      ]
     },
     "execution_count": 20,
     "metadata": {},
     "output_type": "execute_result"
    }
   ],
   "source": [
    "df['product_title']=df['product_title'].apply(lambda x: x.strip())\n",
    "df.product_title.nunique()"
   ]
  },
  {
   "cell_type": "markdown",
   "metadata": {},
   "source": [
    "**Check for duplicates**"
   ]
  },
  {
   "cell_type": "code",
   "execution_count": 23,
   "metadata": {
    "scrolled": true
   },
   "outputs": [
    {
     "data": {
      "text/html": [
       "<div>\n",
       "<style scoped>\n",
       "    .dataframe tbody tr th:only-of-type {\n",
       "        vertical-align: middle;\n",
       "    }\n",
       "\n",
       "    .dataframe tbody tr th {\n",
       "        vertical-align: top;\n",
       "    }\n",
       "\n",
       "    .dataframe thead th {\n",
       "        text-align: right;\n",
       "    }\n",
       "</style>\n",
       "<table border=\"1\" class=\"dataframe\">\n",
       "  <thead>\n",
       "    <tr style=\"text-align: right;\">\n",
       "      <th></th>\n",
       "      <th>marketplace</th>\n",
       "      <th>customer_id</th>\n",
       "      <th>review_id</th>\n",
       "      <th>product_id</th>\n",
       "      <th>product_parent</th>\n",
       "      <th>product_title</th>\n",
       "      <th>product_category</th>\n",
       "      <th>star_rating</th>\n",
       "      <th>helpful_votes</th>\n",
       "      <th>total_votes</th>\n",
       "      <th>vine</th>\n",
       "      <th>verified_purchase</th>\n",
       "      <th>review_headline</th>\n",
       "      <th>review_body</th>\n",
       "      <th>review_date</th>\n",
       "      <th>year</th>\n",
       "    </tr>\n",
       "  </thead>\n",
       "  <tbody>\n",
       "    <tr>\n",
       "      <th>3660</th>\n",
       "      <td>US</td>\n",
       "      <td>51253599</td>\n",
       "      <td>R2D58SFRNOLDYK</td>\n",
       "      <td>B00H7H4FK0</td>\n",
       "      <td>806333598</td>\n",
       "      <td>Smart Travels with Rudy Maxa</td>\n",
       "      <td>Digital_Video_Download</td>\n",
       "      <td>5</td>\n",
       "      <td>0</td>\n",
       "      <td>0</td>\n",
       "      <td>N</td>\n",
       "      <td>Y</td>\n",
       "      <td>A must see</td>\n",
       "      <td>Rudy Maxa brings real wit and charm to his spo...</td>\n",
       "      <td>2015-08-31</td>\n",
       "      <td>2015.0</td>\n",
       "    </tr>\n",
       "    <tr>\n",
       "      <th>8697</th>\n",
       "      <td>US</td>\n",
       "      <td>12195091</td>\n",
       "      <td>R3B73CZILFZ4FY</td>\n",
       "      <td>B00R8K7TEA</td>\n",
       "      <td>427320491</td>\n",
       "      <td>Fireman Sam</td>\n",
       "      <td>Digital_Video_Download</td>\n",
       "      <td>5</td>\n",
       "      <td>0</td>\n",
       "      <td>0</td>\n",
       "      <td>N</td>\n",
       "      <td>Y</td>\n",
       "      <td>Five Stars</td>\n",
       "      <td>grandkids love it!</td>\n",
       "      <td>2015-08-31</td>\n",
       "      <td>2015.0</td>\n",
       "    </tr>\n",
       "    <tr>\n",
       "      <th>10374</th>\n",
       "      <td>US</td>\n",
       "      <td>51253599</td>\n",
       "      <td>R35CG88O7JG35J</td>\n",
       "      <td>B00ERG9ANG</td>\n",
       "      <td>664427666</td>\n",
       "      <td>Smart Travels with Rudy Maxa</td>\n",
       "      <td>Digital_Video_Download</td>\n",
       "      <td>5</td>\n",
       "      <td>0</td>\n",
       "      <td>0</td>\n",
       "      <td>N</td>\n",
       "      <td>Y</td>\n",
       "      <td>A must see</td>\n",
       "      <td>Rudy Maxa brings real wit and charm to his spo...</td>\n",
       "      <td>2015-08-31</td>\n",
       "      <td>2015.0</td>\n",
       "    </tr>\n",
       "    <tr>\n",
       "      <th>17606</th>\n",
       "      <td>US</td>\n",
       "      <td>43430756</td>\n",
       "      <td>R3LO0JJYTKS1AC</td>\n",
       "      <td>B00ZJG6NQK</td>\n",
       "      <td>7832378</td>\n",
       "      <td>Z for Zachariah - Trailer</td>\n",
       "      <td>Digital_Video_Download</td>\n",
       "      <td>3</td>\n",
       "      <td>1</td>\n",
       "      <td>1</td>\n",
       "      <td>N</td>\n",
       "      <td>N</td>\n",
       "      <td>I COULD USE A GLASS OF WATER</td>\n",
       "      <td>Ann Burden (Margot Robbie) and her dog have ma...</td>\n",
       "      <td>2015-08-30</td>\n",
       "      <td>2015.0</td>\n",
       "    </tr>\n",
       "    <tr>\n",
       "      <th>17736</th>\n",
       "      <td>US</td>\n",
       "      <td>2732127</td>\n",
       "      <td>R3NGKS7HQUKT9E</td>\n",
       "      <td>B00MFDPY2Y</td>\n",
       "      <td>626478823</td>\n",
       "      <td>Fireman Sam</td>\n",
       "      <td>Digital_Video_Download</td>\n",
       "      <td>5</td>\n",
       "      <td>0</td>\n",
       "      <td>0</td>\n",
       "      <td>N</td>\n",
       "      <td>Y</td>\n",
       "      <td>Good!</td>\n",
       "      <td>Good!</td>\n",
       "      <td>2015-08-30</td>\n",
       "      <td>2015.0</td>\n",
       "    </tr>\n",
       "  </tbody>\n",
       "</table>\n",
       "</div>"
      ],
      "text/plain": [
       "      marketplace  customer_id       review_id  product_id  product_parent  \\\n",
       "3660           US     51253599  R2D58SFRNOLDYK  B00H7H4FK0       806333598   \n",
       "8697           US     12195091  R3B73CZILFZ4FY  B00R8K7TEA       427320491   \n",
       "10374          US     51253599  R35CG88O7JG35J  B00ERG9ANG       664427666   \n",
       "17606          US     43430756  R3LO0JJYTKS1AC  B00ZJG6NQK         7832378   \n",
       "17736          US      2732127  R3NGKS7HQUKT9E  B00MFDPY2Y       626478823   \n",
       "\n",
       "                      product_title        product_category  star_rating  \\\n",
       "3660   Smart Travels with Rudy Maxa  Digital_Video_Download            5   \n",
       "8697                    Fireman Sam  Digital_Video_Download            5   \n",
       "10374  Smart Travels with Rudy Maxa  Digital_Video_Download            5   \n",
       "17606     Z for Zachariah - Trailer  Digital_Video_Download            3   \n",
       "17736                   Fireman Sam  Digital_Video_Download            5   \n",
       "\n",
       "       helpful_votes  total_votes vine verified_purchase  \\\n",
       "3660               0            0    N                 Y   \n",
       "8697               0            0    N                 Y   \n",
       "10374              0            0    N                 Y   \n",
       "17606              1            1    N                 N   \n",
       "17736              0            0    N                 Y   \n",
       "\n",
       "                    review_headline  \\\n",
       "3660                     A must see   \n",
       "8697                     Five Stars   \n",
       "10374                    A must see   \n",
       "17606  I COULD USE A GLASS OF WATER   \n",
       "17736                         Good!   \n",
       "\n",
       "                                             review_body review_date    year  \n",
       "3660   Rudy Maxa brings real wit and charm to his spo...  2015-08-31  2015.0  \n",
       "8697                                  grandkids love it!  2015-08-31  2015.0  \n",
       "10374  Rudy Maxa brings real wit and charm to his spo...  2015-08-31  2015.0  \n",
       "17606  Ann Burden (Margot Robbie) and her dog have ma...  2015-08-30  2015.0  \n",
       "17736                                              Good!  2015-08-30  2015.0  "
      ]
     },
     "execution_count": 23,
     "metadata": {},
     "output_type": "execute_result"
    }
   ],
   "source": [
    "df[df.duplicated(['customer_id', 'product_title', 'review_date', 'star_rating', 'helpful_votes', 'total_votes', 'verified_purchase'])].head()"
   ]
  },
  {
   "cell_type": "markdown",
   "metadata": {},
   "source": [
    "We observe that the customer ID 51253599 did a review for Smart Travels with Rudy Maxa, that appears duplicated with two different profduct IDs. The same happens with customer ID 12195091, as shown below:"
   ]
  },
  {
   "cell_type": "code",
   "execution_count": 24,
   "metadata": {
    "scrolled": true
   },
   "outputs": [
    {
     "data": {
      "text/html": [
       "<div>\n",
       "<style scoped>\n",
       "    .dataframe tbody tr th:only-of-type {\n",
       "        vertical-align: middle;\n",
       "    }\n",
       "\n",
       "    .dataframe tbody tr th {\n",
       "        vertical-align: top;\n",
       "    }\n",
       "\n",
       "    .dataframe thead th {\n",
       "        text-align: right;\n",
       "    }\n",
       "</style>\n",
       "<table border=\"1\" class=\"dataframe\">\n",
       "  <thead>\n",
       "    <tr style=\"text-align: right;\">\n",
       "      <th></th>\n",
       "      <th>marketplace</th>\n",
       "      <th>customer_id</th>\n",
       "      <th>review_id</th>\n",
       "      <th>product_id</th>\n",
       "      <th>product_parent</th>\n",
       "      <th>product_title</th>\n",
       "      <th>product_category</th>\n",
       "      <th>star_rating</th>\n",
       "      <th>helpful_votes</th>\n",
       "      <th>total_votes</th>\n",
       "      <th>vine</th>\n",
       "      <th>verified_purchase</th>\n",
       "      <th>review_headline</th>\n",
       "      <th>review_body</th>\n",
       "      <th>review_date</th>\n",
       "      <th>year</th>\n",
       "    </tr>\n",
       "  </thead>\n",
       "  <tbody>\n",
       "    <tr>\n",
       "      <th>2526</th>\n",
       "      <td>US</td>\n",
       "      <td>12195091</td>\n",
       "      <td>R2H44FQCD69L9I</td>\n",
       "      <td>B00P8HULJ0</td>\n",
       "      <td>969493209</td>\n",
       "      <td>Fireman Sam</td>\n",
       "      <td>Digital_Video_Download</td>\n",
       "      <td>5</td>\n",
       "      <td>0</td>\n",
       "      <td>0</td>\n",
       "      <td>N</td>\n",
       "      <td>Y</td>\n",
       "      <td>Five Stars</td>\n",
       "      <td>grandkids love it!</td>\n",
       "      <td>2015-08-31</td>\n",
       "      <td>2015.0</td>\n",
       "    </tr>\n",
       "    <tr>\n",
       "      <th>8697</th>\n",
       "      <td>US</td>\n",
       "      <td>12195091</td>\n",
       "      <td>R3B73CZILFZ4FY</td>\n",
       "      <td>B00R8K7TEA</td>\n",
       "      <td>427320491</td>\n",
       "      <td>Fireman Sam</td>\n",
       "      <td>Digital_Video_Download</td>\n",
       "      <td>5</td>\n",
       "      <td>0</td>\n",
       "      <td>0</td>\n",
       "      <td>N</td>\n",
       "      <td>Y</td>\n",
       "      <td>Five Stars</td>\n",
       "      <td>grandkids love it!</td>\n",
       "      <td>2015-08-31</td>\n",
       "      <td>2015.0</td>\n",
       "    </tr>\n",
       "  </tbody>\n",
       "</table>\n",
       "</div>"
      ],
      "text/plain": [
       "     marketplace  customer_id       review_id  product_id  product_parent  \\\n",
       "2526          US     12195091  R2H44FQCD69L9I  B00P8HULJ0       969493209   \n",
       "8697          US     12195091  R3B73CZILFZ4FY  B00R8K7TEA       427320491   \n",
       "\n",
       "     product_title        product_category  star_rating  helpful_votes  \\\n",
       "2526   Fireman Sam  Digital_Video_Download            5              0   \n",
       "8697   Fireman Sam  Digital_Video_Download            5              0   \n",
       "\n",
       "      total_votes vine verified_purchase review_headline         review_body  \\\n",
       "2526            0    N                 Y      Five Stars  grandkids love it!   \n",
       "8697            0    N                 Y      Five Stars  grandkids love it!   \n",
       "\n",
       "     review_date    year  \n",
       "2526  2015-08-31  2015.0  \n",
       "8697  2015-08-31  2015.0  "
      ]
     },
     "execution_count": 24,
     "metadata": {},
     "output_type": "execute_result"
    }
   ],
   "source": [
    "df[(df['customer_id']==12195091) & (df['product_title']=='Fireman Sam')]"
   ]
  },
  {
   "cell_type": "markdown",
   "metadata": {},
   "source": [
    "There is a problem in the database: We are having duplicated reviews, because of changes in product IDs. We will remove the product ID column, and just keep the product title. "
   ]
  },
  {
   "cell_type": "code",
   "execution_count": 25,
   "metadata": {},
   "outputs": [],
   "source": [
    "df.drop(['product_id', 'product_parent'], axis=1, inplace=True)"
   ]
  },
  {
   "cell_type": "markdown",
   "metadata": {},
   "source": [
    "Number of duplicated records:"
   ]
  },
  {
   "cell_type": "code",
   "execution_count": 26,
   "metadata": {
    "scrolled": false
   },
   "outputs": [
    {
     "data": {
      "text/plain": [
       "149"
      ]
     },
     "execution_count": 26,
     "metadata": {},
     "output_type": "execute_result"
    }
   ],
   "source": [
    "len(df[df.duplicated([i for i in df.columns if i!='review_id'])])"
   ]
  },
  {
   "cell_type": "markdown",
   "metadata": {},
   "source": [
    "Drop duplicated reviews:"
   ]
  },
  {
   "cell_type": "code",
   "execution_count": 27,
   "metadata": {},
   "outputs": [],
   "source": [
    "df.drop_duplicates(subset=[i for i in df.columns if i!='review_id'], keep='last', inplace=True)"
   ]
  },
  {
   "cell_type": "markdown",
   "metadata": {},
   "source": [
    "**Check for users with various reviews of same item**"
   ]
  },
  {
   "cell_type": "code",
   "execution_count": 28,
   "metadata": {
    "scrolled": true
   },
   "outputs": [
    {
     "data": {
      "text/html": [
       "<div>\n",
       "<style scoped>\n",
       "    .dataframe tbody tr th:only-of-type {\n",
       "        vertical-align: middle;\n",
       "    }\n",
       "\n",
       "    .dataframe tbody tr th {\n",
       "        vertical-align: top;\n",
       "    }\n",
       "\n",
       "    .dataframe thead th {\n",
       "        text-align: right;\n",
       "    }\n",
       "</style>\n",
       "<table border=\"1\" class=\"dataframe\">\n",
       "  <thead>\n",
       "    <tr style=\"text-align: right;\">\n",
       "      <th></th>\n",
       "      <th>marketplace</th>\n",
       "      <th>customer_id</th>\n",
       "      <th>review_id</th>\n",
       "      <th>product_title</th>\n",
       "      <th>product_category</th>\n",
       "      <th>star_rating</th>\n",
       "      <th>helpful_votes</th>\n",
       "      <th>total_votes</th>\n",
       "      <th>vine</th>\n",
       "      <th>verified_purchase</th>\n",
       "      <th>review_headline</th>\n",
       "      <th>review_body</th>\n",
       "      <th>review_date</th>\n",
       "      <th>year</th>\n",
       "    </tr>\n",
       "  </thead>\n",
       "  <tbody>\n",
       "    <tr>\n",
       "      <th>12721</th>\n",
       "      <td>US</td>\n",
       "      <td>38294592</td>\n",
       "      <td>R3CRHUR6GF2GBN</td>\n",
       "      <td>Pokémon the Series: Ruby &amp; Sapphire</td>\n",
       "      <td>Digital_Video_Download</td>\n",
       "      <td>5</td>\n",
       "      <td>1</td>\n",
       "      <td>1</td>\n",
       "      <td>N</td>\n",
       "      <td>Y</td>\n",
       "      <td>they love to watch and play at the same time</td>\n",
       "      <td>My Boys are Pokémon crazy, they love to watch ...</td>\n",
       "      <td>2015-08-31</td>\n",
       "      <td>2015.0</td>\n",
       "    </tr>\n",
       "    <tr>\n",
       "      <th>34105</th>\n",
       "      <td>US</td>\n",
       "      <td>51859148</td>\n",
       "      <td>RB4F1IC2CJKZ8</td>\n",
       "      <td>Forensic Files</td>\n",
       "      <td>Digital_Video_Download</td>\n",
       "      <td>5</td>\n",
       "      <td>0</td>\n",
       "      <td>0</td>\n",
       "      <td>N</td>\n",
       "      <td>Y</td>\n",
       "      <td>True Crime Stories</td>\n",
       "      <td>I like all of the Forensic File series. These ...</td>\n",
       "      <td>2015-08-28</td>\n",
       "      <td>2015.0</td>\n",
       "    </tr>\n",
       "    <tr>\n",
       "      <th>48483</th>\n",
       "      <td>US</td>\n",
       "      <td>53082308</td>\n",
       "      <td>R1N0W0FJI10226</td>\n",
       "      <td>Forensic Files</td>\n",
       "      <td>Digital_Video_Download</td>\n",
       "      <td>5</td>\n",
       "      <td>0</td>\n",
       "      <td>0</td>\n",
       "      <td>N</td>\n",
       "      <td>Y</td>\n",
       "      <td>SEASON TWELVE CONTINUES THE EXCELLENCE</td>\n",
       "      <td>Season 12 continues the excellence of prior se...</td>\n",
       "      <td>2015-08-27</td>\n",
       "      <td>2015.0</td>\n",
       "    </tr>\n",
       "    <tr>\n",
       "      <th>54394</th>\n",
       "      <td>US</td>\n",
       "      <td>12612224</td>\n",
       "      <td>R1EOYMDY309H8R</td>\n",
       "      <td>Pokémon the Series: XY</td>\n",
       "      <td>Digital_Video_Download</td>\n",
       "      <td>5</td>\n",
       "      <td>1</td>\n",
       "      <td>1</td>\n",
       "      <td>N</td>\n",
       "      <td>Y</td>\n",
       "      <td>9 yo approved</td>\n",
       "      <td>9 yo approved. My son loves everything Pokémon.</td>\n",
       "      <td>2015-08-26</td>\n",
       "      <td>2015.0</td>\n",
       "    </tr>\n",
       "    <tr>\n",
       "      <th>57995</th>\n",
       "      <td>US</td>\n",
       "      <td>36899100</td>\n",
       "      <td>R2R7WLUD6CHTLW</td>\n",
       "      <td>Annie</td>\n",
       "      <td>Digital_Video_Download</td>\n",
       "      <td>5</td>\n",
       "      <td>1</td>\n",
       "      <td>1</td>\n",
       "      <td>N</td>\n",
       "      <td>Y</td>\n",
       "      <td>Annie</td>\n",
       "      <td>An excellent Classic.</td>\n",
       "      <td>2015-08-25</td>\n",
       "      <td>2015.0</td>\n",
       "    </tr>\n",
       "  </tbody>\n",
       "</table>\n",
       "</div>"
      ],
      "text/plain": [
       "      marketplace  customer_id       review_id  \\\n",
       "12721          US     38294592  R3CRHUR6GF2GBN   \n",
       "34105          US     51859148   RB4F1IC2CJKZ8   \n",
       "48483          US     53082308  R1N0W0FJI10226   \n",
       "54394          US     12612224  R1EOYMDY309H8R   \n",
       "57995          US     36899100  R2R7WLUD6CHTLW   \n",
       "\n",
       "                             product_title        product_category  \\\n",
       "12721  Pokémon the Series: Ruby & Sapphire  Digital_Video_Download   \n",
       "34105                       Forensic Files  Digital_Video_Download   \n",
       "48483                       Forensic Files  Digital_Video_Download   \n",
       "54394               Pokémon the Series: XY  Digital_Video_Download   \n",
       "57995                                Annie  Digital_Video_Download   \n",
       "\n",
       "       star_rating  helpful_votes  total_votes vine verified_purchase  \\\n",
       "12721            5              1            1    N                 Y   \n",
       "34105            5              0            0    N                 Y   \n",
       "48483            5              0            0    N                 Y   \n",
       "54394            5              1            1    N                 Y   \n",
       "57995            5              1            1    N                 Y   \n",
       "\n",
       "                                    review_headline  \\\n",
       "12721  they love to watch and play at the same time   \n",
       "34105                            True Crime Stories   \n",
       "48483        SEASON TWELVE CONTINUES THE EXCELLENCE   \n",
       "54394                                 9 yo approved   \n",
       "57995                                         Annie   \n",
       "\n",
       "                                             review_body review_date    year  \n",
       "12721  My Boys are Pokémon crazy, they love to watch ...  2015-08-31  2015.0  \n",
       "34105  I like all of the Forensic File series. These ...  2015-08-28  2015.0  \n",
       "48483  Season 12 continues the excellence of prior se...  2015-08-27  2015.0  \n",
       "54394    9 yo approved. My son loves everything Pokémon.  2015-08-26  2015.0  \n",
       "57995                              An excellent Classic.  2015-08-25  2015.0  "
      ]
     },
     "execution_count": 28,
     "metadata": {},
     "output_type": "execute_result"
    }
   ],
   "source": [
    "df[df.duplicated(['customer_id', 'product_title'])].head()"
   ]
  },
  {
   "cell_type": "markdown",
   "metadata": {},
   "source": [
    "Below we observe that customer ID 36899100 has two reviews for Annie, with different review bodies and headings, but the same star rating:"
   ]
  },
  {
   "cell_type": "code",
   "execution_count": 29,
   "metadata": {},
   "outputs": [
    {
     "data": {
      "text/html": [
       "<div>\n",
       "<style scoped>\n",
       "    .dataframe tbody tr th:only-of-type {\n",
       "        vertical-align: middle;\n",
       "    }\n",
       "\n",
       "    .dataframe tbody tr th {\n",
       "        vertical-align: top;\n",
       "    }\n",
       "\n",
       "    .dataframe thead th {\n",
       "        text-align: right;\n",
       "    }\n",
       "</style>\n",
       "<table border=\"1\" class=\"dataframe\">\n",
       "  <thead>\n",
       "    <tr style=\"text-align: right;\">\n",
       "      <th></th>\n",
       "      <th>marketplace</th>\n",
       "      <th>customer_id</th>\n",
       "      <th>review_id</th>\n",
       "      <th>product_title</th>\n",
       "      <th>product_category</th>\n",
       "      <th>star_rating</th>\n",
       "      <th>helpful_votes</th>\n",
       "      <th>total_votes</th>\n",
       "      <th>vine</th>\n",
       "      <th>verified_purchase</th>\n",
       "      <th>review_headline</th>\n",
       "      <th>review_body</th>\n",
       "      <th>review_date</th>\n",
       "      <th>year</th>\n",
       "    </tr>\n",
       "  </thead>\n",
       "  <tbody>\n",
       "    <tr>\n",
       "      <th>57671</th>\n",
       "      <td>US</td>\n",
       "      <td>36899100</td>\n",
       "      <td>R9G7LC3J29L4C</td>\n",
       "      <td>Annie</td>\n",
       "      <td>Digital_Video_Download</td>\n",
       "      <td>5</td>\n",
       "      <td>0</td>\n",
       "      <td>1</td>\n",
       "      <td>N</td>\n",
       "      <td>Y</td>\n",
       "      <td>Annie</td>\n",
       "      <td>Annie is always excellent!</td>\n",
       "      <td>2015-08-25</td>\n",
       "      <td>2015.0</td>\n",
       "    </tr>\n",
       "    <tr>\n",
       "      <th>57995</th>\n",
       "      <td>US</td>\n",
       "      <td>36899100</td>\n",
       "      <td>R2R7WLUD6CHTLW</td>\n",
       "      <td>Annie</td>\n",
       "      <td>Digital_Video_Download</td>\n",
       "      <td>5</td>\n",
       "      <td>1</td>\n",
       "      <td>1</td>\n",
       "      <td>N</td>\n",
       "      <td>Y</td>\n",
       "      <td>Annie</td>\n",
       "      <td>An excellent Classic.</td>\n",
       "      <td>2015-08-25</td>\n",
       "      <td>2015.0</td>\n",
       "    </tr>\n",
       "  </tbody>\n",
       "</table>\n",
       "</div>"
      ],
      "text/plain": [
       "      marketplace  customer_id       review_id product_title  \\\n",
       "57671          US     36899100   R9G7LC3J29L4C         Annie   \n",
       "57995          US     36899100  R2R7WLUD6CHTLW         Annie   \n",
       "\n",
       "             product_category  star_rating  helpful_votes  total_votes vine  \\\n",
       "57671  Digital_Video_Download            5              0            1    N   \n",
       "57995  Digital_Video_Download            5              1            1    N   \n",
       "\n",
       "      verified_purchase review_headline                 review_body  \\\n",
       "57671                 Y           Annie  Annie is always excellent!   \n",
       "57995                 Y           Annie       An excellent Classic.   \n",
       "\n",
       "      review_date    year  \n",
       "57671  2015-08-25  2015.0  \n",
       "57995  2015-08-25  2015.0  "
      ]
     },
     "execution_count": 29,
     "metadata": {},
     "output_type": "execute_result"
    }
   ],
   "source": [
    "df[(df['customer_id']==36899100) & (df['product_title']=='Annie')]"
   ]
  },
  {
   "cell_type": "markdown",
   "metadata": {},
   "source": [
    "The same happens for customer ID 53082308 and the video Forensic Files, as shown below:"
   ]
  },
  {
   "cell_type": "code",
   "execution_count": 30,
   "metadata": {
    "scrolled": true
   },
   "outputs": [
    {
     "data": {
      "text/html": [
       "<div>\n",
       "<style scoped>\n",
       "    .dataframe tbody tr th:only-of-type {\n",
       "        vertical-align: middle;\n",
       "    }\n",
       "\n",
       "    .dataframe tbody tr th {\n",
       "        vertical-align: top;\n",
       "    }\n",
       "\n",
       "    .dataframe thead th {\n",
       "        text-align: right;\n",
       "    }\n",
       "</style>\n",
       "<table border=\"1\" class=\"dataframe\">\n",
       "  <thead>\n",
       "    <tr style=\"text-align: right;\">\n",
       "      <th></th>\n",
       "      <th>marketplace</th>\n",
       "      <th>customer_id</th>\n",
       "      <th>review_id</th>\n",
       "      <th>product_title</th>\n",
       "      <th>product_category</th>\n",
       "      <th>star_rating</th>\n",
       "      <th>helpful_votes</th>\n",
       "      <th>total_votes</th>\n",
       "      <th>vine</th>\n",
       "      <th>verified_purchase</th>\n",
       "      <th>review_headline</th>\n",
       "      <th>review_body</th>\n",
       "      <th>review_date</th>\n",
       "      <th>year</th>\n",
       "    </tr>\n",
       "  </thead>\n",
       "  <tbody>\n",
       "    <tr>\n",
       "      <th>44926</th>\n",
       "      <td>US</td>\n",
       "      <td>53082308</td>\n",
       "      <td>R2TZYHAOC528U8</td>\n",
       "      <td>Forensic Files</td>\n",
       "      <td>Digital_Video_Download</td>\n",
       "      <td>5</td>\n",
       "      <td>0</td>\n",
       "      <td>0</td>\n",
       "      <td>N</td>\n",
       "      <td>Y</td>\n",
       "      <td>CAN'T GET ENOUGH FORENSIC FILES!</td>\n",
       "      <td>Well this is the best of this genre, although ...</td>\n",
       "      <td>2015-08-27</td>\n",
       "      <td>2015.0</td>\n",
       "    </tr>\n",
       "    <tr>\n",
       "      <th>48483</th>\n",
       "      <td>US</td>\n",
       "      <td>53082308</td>\n",
       "      <td>R1N0W0FJI10226</td>\n",
       "      <td>Forensic Files</td>\n",
       "      <td>Digital_Video_Download</td>\n",
       "      <td>5</td>\n",
       "      <td>0</td>\n",
       "      <td>0</td>\n",
       "      <td>N</td>\n",
       "      <td>Y</td>\n",
       "      <td>SEASON TWELVE CONTINUES THE EXCELLENCE</td>\n",
       "      <td>Season 12 continues the excellence of prior se...</td>\n",
       "      <td>2015-08-27</td>\n",
       "      <td>2015.0</td>\n",
       "    </tr>\n",
       "  </tbody>\n",
       "</table>\n",
       "</div>"
      ],
      "text/plain": [
       "      marketplace  customer_id       review_id   product_title  \\\n",
       "44926          US     53082308  R2TZYHAOC528U8  Forensic Files   \n",
       "48483          US     53082308  R1N0W0FJI10226  Forensic Files   \n",
       "\n",
       "             product_category  star_rating  helpful_votes  total_votes vine  \\\n",
       "44926  Digital_Video_Download            5              0            0    N   \n",
       "48483  Digital_Video_Download            5              0            0    N   \n",
       "\n",
       "      verified_purchase                         review_headline  \\\n",
       "44926                 Y        CAN'T GET ENOUGH FORENSIC FILES!   \n",
       "48483                 Y  SEASON TWELVE CONTINUES THE EXCELLENCE   \n",
       "\n",
       "                                             review_body review_date    year  \n",
       "44926  Well this is the best of this genre, although ...  2015-08-27  2015.0  \n",
       "48483  Season 12 continues the excellence of prior se...  2015-08-27  2015.0  "
      ]
     },
     "execution_count": 30,
     "metadata": {},
     "output_type": "execute_result"
    }
   ],
   "source": [
    "df[(df['customer_id']==53082308) & (df['product_title']==\"Forensic Files\")]"
   ]
  },
  {
   "cell_type": "markdown",
   "metadata": {},
   "source": [
    "Number of repeated reviews to the same product:"
   ]
  },
  {
   "cell_type": "code",
   "execution_count": 31,
   "metadata": {},
   "outputs": [
    {
     "data": {
      "text/plain": [
       "10323"
      ]
     },
     "execution_count": 31,
     "metadata": {},
     "output_type": "execute_result"
    }
   ],
   "source": [
    "len(df[df.duplicated(['customer_id', 'product_title'])])"
   ]
  },
  {
   "cell_type": "markdown",
   "metadata": {},
   "source": [
    "We also observe that there are user reviews of a single movie with different ratings."
   ]
  },
  {
   "cell_type": "code",
   "execution_count": 32,
   "metadata": {},
   "outputs": [],
   "source": [
    "#Convert data types\n",
    "df['star_rating']=df['star_rating'].apply(pd.to_numeric)"
   ]
  },
  {
   "cell_type": "code",
   "execution_count": 33,
   "metadata": {},
   "outputs": [],
   "source": [
    "df_sizes=df.groupby(['customer_id','product_title']).agg({'star_rating':['size','std']}).reset_index()\n",
    "df_sizes.columns=['customer_id','product_title', 'size', 'std']"
   ]
  },
  {
   "cell_type": "markdown",
   "metadata": {},
   "source": [
    "We calculated the standard deviation for the number of star ratings:"
   ]
  },
  {
   "cell_type": "code",
   "execution_count": 34,
   "metadata": {},
   "outputs": [
    {
     "data": {
      "text/html": [
       "<div>\n",
       "<style scoped>\n",
       "    .dataframe tbody tr th:only-of-type {\n",
       "        vertical-align: middle;\n",
       "    }\n",
       "\n",
       "    .dataframe tbody tr th {\n",
       "        vertical-align: top;\n",
       "    }\n",
       "\n",
       "    .dataframe thead th {\n",
       "        text-align: right;\n",
       "    }\n",
       "</style>\n",
       "<table border=\"1\" class=\"dataframe\">\n",
       "  <thead>\n",
       "    <tr style=\"text-align: right;\">\n",
       "      <th></th>\n",
       "      <th>customer_id</th>\n",
       "      <th>product_title</th>\n",
       "      <th>size</th>\n",
       "      <th>std</th>\n",
       "    </tr>\n",
       "  </thead>\n",
       "  <tbody>\n",
       "    <tr>\n",
       "      <th>3049903</th>\n",
       "      <td>43428083</td>\n",
       "      <td>Pilot</td>\n",
       "      <td>2</td>\n",
       "      <td>2.828427</td>\n",
       "    </tr>\n",
       "    <tr>\n",
       "      <th>3199069</th>\n",
       "      <td>45078621</td>\n",
       "      <td>Pilot</td>\n",
       "      <td>2</td>\n",
       "      <td>2.828427</td>\n",
       "    </tr>\n",
       "    <tr>\n",
       "      <th>942311</th>\n",
       "      <td>14394215</td>\n",
       "      <td>Pilot</td>\n",
       "      <td>2</td>\n",
       "      <td>2.828427</td>\n",
       "    </tr>\n",
       "    <tr>\n",
       "      <th>3778749</th>\n",
       "      <td>51692719</td>\n",
       "      <td>Pilot</td>\n",
       "      <td>2</td>\n",
       "      <td>2.828427</td>\n",
       "    </tr>\n",
       "    <tr>\n",
       "      <th>944156</th>\n",
       "      <td>14408896</td>\n",
       "      <td>Pilot</td>\n",
       "      <td>2</td>\n",
       "      <td>2.828427</td>\n",
       "    </tr>\n",
       "    <tr>\n",
       "      <th>...</th>\n",
       "      <td>...</td>\n",
       "      <td>...</td>\n",
       "      <td>...</td>\n",
       "      <td>...</td>\n",
       "    </tr>\n",
       "    <tr>\n",
       "      <th>2108703</th>\n",
       "      <td>28935030</td>\n",
       "      <td>Pilot</td>\n",
       "      <td>2</td>\n",
       "      <td>0.000000</td>\n",
       "    </tr>\n",
       "    <tr>\n",
       "      <th>2109442</th>\n",
       "      <td>28946058</td>\n",
       "      <td>Pilot</td>\n",
       "      <td>2</td>\n",
       "      <td>0.000000</td>\n",
       "    </tr>\n",
       "    <tr>\n",
       "      <th>2109892</th>\n",
       "      <td>28954262</td>\n",
       "      <td>The Naked Archaeologist</td>\n",
       "      <td>2</td>\n",
       "      <td>0.000000</td>\n",
       "    </tr>\n",
       "    <tr>\n",
       "      <th>2110028</th>\n",
       "      <td>28956502</td>\n",
       "      <td>Pilot</td>\n",
       "      <td>2</td>\n",
       "      <td>0.000000</td>\n",
       "    </tr>\n",
       "    <tr>\n",
       "      <th>2275611</th>\n",
       "      <td>31726847</td>\n",
       "      <td>Pilot</td>\n",
       "      <td>2</td>\n",
       "      <td>0.000000</td>\n",
       "    </tr>\n",
       "  </tbody>\n",
       "</table>\n",
       "<p>6817 rows × 4 columns</p>\n",
       "</div>"
      ],
      "text/plain": [
       "         customer_id            product_title  size       std\n",
       "3049903     43428083                    Pilot     2  2.828427\n",
       "3199069     45078621                    Pilot     2  2.828427\n",
       "942311      14394215                    Pilot     2  2.828427\n",
       "3778749     51692719                    Pilot     2  2.828427\n",
       "944156      14408896                    Pilot     2  2.828427\n",
       "...              ...                      ...   ...       ...\n",
       "2108703     28935030                    Pilot     2  0.000000\n",
       "2109442     28946058                    Pilot     2  0.000000\n",
       "2109892     28954262  The Naked Archaeologist     2  0.000000\n",
       "2110028     28956502                    Pilot     2  0.000000\n",
       "2275611     31726847                    Pilot     2  0.000000\n",
       "\n",
       "[6817 rows x 4 columns]"
      ]
     },
     "execution_count": 34,
     "metadata": {},
     "output_type": "execute_result"
    }
   ],
   "source": [
    "df_sizes[df_sizes['size']>1].sort_values('std', ascending=False)"
   ]
  },
  {
   "cell_type": "markdown",
   "metadata": {},
   "source": [
    "Cases in which the star rating reviews for the same item were different:"
   ]
  },
  {
   "cell_type": "code",
   "execution_count": 35,
   "metadata": {},
   "outputs": [
    {
     "data": {
      "text/plain": [
       "4025"
      ]
     },
     "execution_count": 35,
     "metadata": {},
     "output_type": "execute_result"
    }
   ],
   "source": [
    "len(df_sizes[(df_sizes['size']>1) & (df_sizes['std']>0)])"
   ]
  },
  {
   "cell_type": "code",
   "execution_count": 36,
   "metadata": {},
   "outputs": [],
   "source": [
    "del(df_sizes)"
   ]
  },
  {
   "cell_type": "markdown",
   "metadata": {},
   "source": [
    "Below we observe an example of differences in ratings:"
   ]
  },
  {
   "cell_type": "code",
   "execution_count": 37,
   "metadata": {},
   "outputs": [
    {
     "data": {
      "text/html": [
       "<div>\n",
       "<style scoped>\n",
       "    .dataframe tbody tr th:only-of-type {\n",
       "        vertical-align: middle;\n",
       "    }\n",
       "\n",
       "    .dataframe tbody tr th {\n",
       "        vertical-align: top;\n",
       "    }\n",
       "\n",
       "    .dataframe thead th {\n",
       "        text-align: right;\n",
       "    }\n",
       "</style>\n",
       "<table border=\"1\" class=\"dataframe\">\n",
       "  <thead>\n",
       "    <tr style=\"text-align: right;\">\n",
       "      <th></th>\n",
       "      <th>marketplace</th>\n",
       "      <th>customer_id</th>\n",
       "      <th>review_id</th>\n",
       "      <th>product_title</th>\n",
       "      <th>product_category</th>\n",
       "      <th>star_rating</th>\n",
       "      <th>helpful_votes</th>\n",
       "      <th>total_votes</th>\n",
       "      <th>vine</th>\n",
       "      <th>verified_purchase</th>\n",
       "      <th>review_headline</th>\n",
       "      <th>review_body</th>\n",
       "      <th>review_date</th>\n",
       "      <th>year</th>\n",
       "    </tr>\n",
       "  </thead>\n",
       "  <tbody>\n",
       "    <tr>\n",
       "      <th>3519622</th>\n",
       "      <td>US</td>\n",
       "      <td>16224346</td>\n",
       "      <td>R2ZM7UUV0DX38E</td>\n",
       "      <td>Pilot</td>\n",
       "      <td>Digital_Video_Download</td>\n",
       "      <td>1</td>\n",
       "      <td>0</td>\n",
       "      <td>0</td>\n",
       "      <td>N</td>\n",
       "      <td>N</td>\n",
       "      <td>Disappointing</td>\n",
       "      <td>The pilot was just very badly made. The jokes ...</td>\n",
       "      <td>2013-06-09</td>\n",
       "      <td>2013.0</td>\n",
       "    </tr>\n",
       "    <tr>\n",
       "      <th>3519914</th>\n",
       "      <td>US</td>\n",
       "      <td>16224346</td>\n",
       "      <td>RTFZM09250N9K</td>\n",
       "      <td>Pilot</td>\n",
       "      <td>Digital_Video_Download</td>\n",
       "      <td>5</td>\n",
       "      <td>0</td>\n",
       "      <td>0</td>\n",
       "      <td>N</td>\n",
       "      <td>N</td>\n",
       "      <td>Great Show</td>\n",
       "      <td>Amazing. It would be a travesty if this is not...</td>\n",
       "      <td>2013-06-09</td>\n",
       "      <td>2013.0</td>\n",
       "    </tr>\n",
       "  </tbody>\n",
       "</table>\n",
       "</div>"
      ],
      "text/plain": [
       "        marketplace  customer_id       review_id product_title  \\\n",
       "3519622          US     16224346  R2ZM7UUV0DX38E         Pilot   \n",
       "3519914          US     16224346   RTFZM09250N9K         Pilot   \n",
       "\n",
       "               product_category  star_rating  helpful_votes  total_votes vine  \\\n",
       "3519622  Digital_Video_Download            1              0            0    N   \n",
       "3519914  Digital_Video_Download            5              0            0    N   \n",
       "\n",
       "        verified_purchase review_headline  \\\n",
       "3519622                 N   Disappointing   \n",
       "3519914                 N      Great Show   \n",
       "\n",
       "                                               review_body review_date    year  \n",
       "3519622  The pilot was just very badly made. The jokes ...  2013-06-09  2013.0  \n",
       "3519914  Amazing. It would be a travesty if this is not...  2013-06-09  2013.0  "
      ]
     },
     "execution_count": 37,
     "metadata": {},
     "output_type": "execute_result"
    }
   ],
   "source": [
    "df[(df['customer_id']==16224346) & (df['product_title']=='Pilot')]"
   ]
  },
  {
   "cell_type": "markdown",
   "metadata": {},
   "source": [
    " We choose to take the average of these ratings to aggregate them:"
   ]
  },
  {
   "cell_type": "code",
   "execution_count": 38,
   "metadata": {},
   "outputs": [],
   "source": [
    "df=df.groupby(['customer_id','product_title']).agg({'review_date':['max'], 'star_rating':['mean'], 'helpful_votes':['sum'], 'total_votes':['sum'], 'verified_purchase':['max']}).reset_index()\n",
    "df.columns=['customer_id','product_title', 'review_date', 'star_rating', 'helpful_votes', 'total_votes', 'verified_purchase']"
   ]
  },
  {
   "cell_type": "markdown",
   "metadata": {},
   "source": [
    "**Exploration of helpful, total votes, star rating and verified purchase variable:**"
   ]
  },
  {
   "cell_type": "code",
   "execution_count": 40,
   "metadata": {},
   "outputs": [],
   "source": [
    "vars_to_plot=['helpful_votes', 'total_votes', 'star_rating', 'verified_purchase']"
   ]
  },
  {
   "cell_type": "code",
   "execution_count": 41,
   "metadata": {},
   "outputs": [],
   "source": [
    "def plot_histograms(dataframe, vars_to_plot):\n",
    "    plt.figure(figsize=(14,10))\n",
    "    for i, var in enumerate(vars_to_plot):\n",
    "        plt.subplot(2,2,i+1)\n",
    "        if var in ['helpful_votes', 'total_votes']:\n",
    "            plt.hist(dataframe[var], 50, range=(0,50))\n",
    "        else:\n",
    "            plt.hist(dataframe[var], 50)\n",
    "        title_string='Histogram of ' + var\n",
    "        plt.xlabel(var)\n",
    "        plt.ylabel('Count')\n",
    "        plt.title(title_string)"
   ]
  },
  {
   "cell_type": "code",
   "execution_count": 42,
   "metadata": {
    "scrolled": true
   },
   "outputs": [
    {
     "data": {
      "image/png": "[encoded data removed]",
      "text/plain": [
       "<Figure size 1008x720 with 4 Axes>"
      ]
     },
     "metadata": {
      "needs_background": "light"
     },
     "output_type": "display_data"
    }
   ],
   "source": [
    "plot_histograms(df, vars_to_plot)"
   ]
  },
  {
   "cell_type": "markdown",
   "metadata": {},
   "source": [
    "**Star rating analysis** "
   ]
  },
  {
   "cell_type": "code",
   "execution_count": 43,
   "metadata": {},
   "outputs": [
    {
     "data": {
      "text/plain": [
       "count    3.972493e+06\n",
       "mean     4.203664e+00\n",
       "std      1.220808e+00\n",
       "min      1.000000e+00\n",
       "25%      4.000000e+00\n",
       "50%      5.000000e+00\n",
       "75%      5.000000e+00\n",
       "max      5.000000e+00\n",
       "Name: star_rating, dtype: float64"
      ]
     },
     "execution_count": 43,
     "metadata": {},
     "output_type": "execute_result"
    }
   ],
   "source": [
    "df['star_rating'].describe()"
   ]
  },
  {
   "cell_type": "code",
   "execution_count": 44,
   "metadata": {},
   "outputs": [],
   "source": [
    "#Count number of reviews for each star rating (from 1 to 5)\n",
    "star_counts = Counter(df.star_rating)\n",
    "tdf = pd.DataFrame.from_dict(star_counts, orient = 'index').sort_values(by = 0)\n",
    "tdf = (tdf.iloc[-10:, :] / len(df)) * 100\n",
    "# Sort dataframe by number of stars\n",
    "tdf.sort_index(axis = 0, ascending = True, inplace = True)\n",
    "tdf=tdf.loc[[1.0, 2.0, 3.0, 4.0, 5.0],:]"
   ]
  },
  {
   "cell_type": "code",
   "execution_count": 47,
   "metadata": {},
   "outputs": [
    {
     "data": {
      "image/png": "[encoded data removed]",
      "text/plain": [
       "<Figure size 432x288 with 1 Axes>"
      ]
     },
     "metadata": {
      "needs_background": "light"
     },
     "output_type": "display_data"
    }
   ],
   "source": [
    "# Plot percent of reviews by star rating\n",
    "ax = tdf.plot(kind = 'bar', color='skyblue')\n",
    "ax.set_xlabel(\"Star rating\")\n",
    "ax.set_ylabel(\"% Reviews\")\n",
    "ax.set_title('Percentage of reviews by rating')\n",
    "ax.legend_.remove()\n",
    "\n",
    "plt.show()"
   ]
  },
  {
   "cell_type": "markdown",
   "metadata": {},
   "source": [
    "The graph shown above presents the distribution of the star ratings, and we observe that the histogram is not uniform; there are few 1,2 and 3 ratings and a large cluster of 5 ratings; so we see that most people who review movies or TV shows do it positively. "
   ]
  },
  {
   "cell_type": "markdown",
   "metadata": {},
   "source": [
    "**Verfied purchase datatype**"
   ]
  },
  {
   "cell_type": "code",
   "execution_count": 48,
   "metadata": {},
   "outputs": [
    {
     "data": {
      "text/plain": [
       "Y    2650786\n",
       "N    1321707\n",
       "Name: verified_purchase, dtype: int64"
      ]
     },
     "execution_count": 48,
     "metadata": {},
     "output_type": "execute_result"
    }
   ],
   "source": [
    "#As this variable is string and categorical, we need to declare this in the interactions schema in the next notebook\n",
    "df['verified_purchase'].value_counts()"
   ]
  },
  {
   "cell_type": "markdown",
   "metadata": {},
   "source": [
    "**Exploration for customers and products:**"
   ]
  },
  {
   "cell_type": "code",
   "execution_count": 47,
   "metadata": {},
   "outputs": [
    {
     "name": "stdout",
     "output_type": "stream",
     "text": [
      "The number of users is 2010388\n",
      "The number of movies is 88737\n"
     ]
    }
   ],
   "source": [
    "print(\"The number of users is\", df.customer_id.unique().size)\n",
    "print(\"The number of movies is\", df.product_title.unique().size)"
   ]
  },
  {
   "cell_type": "code",
   "execution_count": 49,
   "metadata": {},
   "outputs": [],
   "source": [
    "#Number of reviews by customer\n",
    "customers = df.groupby('customer_id').size().reset_index(name=\"count_user\")\n",
    "#Number of reviews by product\n",
    "products = df.groupby('product_title').size().reset_index(name=\"count_item\")"
   ]
  },
  {
   "cell_type": "code",
   "execution_count": 106,
   "metadata": {},
   "outputs": [],
   "source": [
    "quantiles = [0, 0.01, 0.02, 0.03, 0.04, 0.05, 0.1, 0.25, 0.5, 0.6, 0.75, 0.8, 0.9, 0.95, 0.96, 0.97, 0.98, 0.99, 1]"
   ]
  },
  {
   "cell_type": "markdown",
   "metadata": {},
   "source": [
    "**Number of products rated by each customer:**"
   ]
  },
  {
   "cell_type": "markdown",
   "metadata": {},
   "source": [
    "We observe that there are on average approximately 1.98 reviews by customer:"
   ]
  },
  {
   "cell_type": "code",
   "execution_count": 50,
   "metadata": {},
   "outputs": [
    {
     "data": {
      "text/plain": [
       "customer_id    2.753382e+07\n",
       "count_user     1.975983e+00\n",
       "dtype: float64"
      ]
     },
     "execution_count": 50,
     "metadata": {},
     "output_type": "execute_result"
    }
   ],
   "source": [
    "customers.mean()"
   ]
  },
  {
   "cell_type": "markdown",
   "metadata": {},
   "source": [
    "We also observe that just 5% of customers have rated 5 or more videos. This is expected as people usually rate fewer videos than they actually see, so we expected our data to be sparse."
   ]
  },
  {
   "cell_type": "code",
   "execution_count": 61,
   "metadata": {},
   "outputs": [
    {
     "data": {
      "text/plain": [
       "0.00       1.0\n",
       "0.01       1.0\n",
       "0.02       1.0\n",
       "0.03       1.0\n",
       "0.04       1.0\n",
       "0.05       1.0\n",
       "0.10       1.0\n",
       "0.25       1.0\n",
       "0.50       1.0\n",
       "0.75       2.0\n",
       "0.80       2.0\n",
       "0.90       4.0\n",
       "0.95       5.0\n",
       "0.96       6.0\n",
       "0.97       7.0\n",
       "0.98       9.0\n",
       "0.99      13.0\n",
       "1.00    2646.0\n",
       "Name: count_user, dtype: float64"
      ]
     },
     "execution_count": 61,
     "metadata": {},
     "output_type": "execute_result"
    }
   ],
   "source": [
    "#Customers quantiles\n",
    "customers['count_user'].quantile(quantiles)"
   ]
  },
  {
   "cell_type": "code",
   "execution_count": 104,
   "metadata": {},
   "outputs": [
    {
     "data": {
      "image/png": "[encoded data removed]",
      "text/plain": [
       "<Figure size 432x288 with 1 Axes>"
      ]
     },
     "metadata": {
      "needs_background": "light"
     },
     "output_type": "display_data"
    }
   ],
   "source": [
    "df.groupby('customer_id')['product_title'].count().hist(range=(0,30), color='skyblue')\n",
    "plt.title('Number of rated videos by customer')\n",
    "#plt.ticklabel_format(axis='y', style='sci', scilimits=(3,0))\n",
    "plt.xlabel('Rated videos by customer')\n",
    "plt.ylabel('Frequency')\n",
    "plt.show()"
   ]
  },
  {
   "cell_type": "markdown",
   "metadata": {},
   "source": [
    "**Number of reviews by video:**"
   ]
  },
  {
   "cell_type": "markdown",
   "metadata": {},
   "source": [
    "On the other hand, the average of reviews by video is of 44.77:"
   ]
  },
  {
   "cell_type": "code",
   "execution_count": 51,
   "metadata": {},
   "outputs": [
    {
     "data": {
      "text/plain": [
       "count_item    44.767042\n",
       "dtype: float64"
      ]
     },
     "execution_count": 51,
     "metadata": {},
     "output_type": "execute_result"
    }
   ],
   "source": [
    "products.mean()"
   ]
  },
  {
   "cell_type": "code",
   "execution_count": 52,
   "metadata": {},
   "outputs": [
    {
     "data": {
      "text/html": [
       "<div>\n",
       "<style scoped>\n",
       "    .dataframe tbody tr th:only-of-type {\n",
       "        vertical-align: middle;\n",
       "    }\n",
       "\n",
       "    .dataframe tbody tr th {\n",
       "        vertical-align: top;\n",
       "    }\n",
       "\n",
       "    .dataframe thead th {\n",
       "        text-align: right;\n",
       "    }\n",
       "</style>\n",
       "<table border=\"1\" class=\"dataframe\">\n",
       "  <thead>\n",
       "    <tr style=\"text-align: right;\">\n",
       "      <th></th>\n",
       "      <th>count_item</th>\n",
       "    </tr>\n",
       "  </thead>\n",
       "  <tbody>\n",
       "    <tr>\n",
       "      <th>count</th>\n",
       "      <td>88737.000000</td>\n",
       "    </tr>\n",
       "    <tr>\n",
       "      <th>mean</th>\n",
       "      <td>44.767042</td>\n",
       "    </tr>\n",
       "    <tr>\n",
       "      <th>std</th>\n",
       "      <td>407.110442</td>\n",
       "    </tr>\n",
       "    <tr>\n",
       "      <th>min</th>\n",
       "      <td>1.000000</td>\n",
       "    </tr>\n",
       "    <tr>\n",
       "      <th>25%</th>\n",
       "      <td>1.000000</td>\n",
       "    </tr>\n",
       "    <tr>\n",
       "      <th>50%</th>\n",
       "      <td>3.000000</td>\n",
       "    </tr>\n",
       "    <tr>\n",
       "      <th>75%</th>\n",
       "      <td>12.000000</td>\n",
       "    </tr>\n",
       "    <tr>\n",
       "      <th>max</th>\n",
       "      <td>51881.000000</td>\n",
       "    </tr>\n",
       "  </tbody>\n",
       "</table>\n",
       "</div>"
      ],
      "text/plain": [
       "         count_item\n",
       "count  88737.000000\n",
       "mean      44.767042\n",
       "std      407.110442\n",
       "min        1.000000\n",
       "25%        1.000000\n",
       "50%        3.000000\n",
       "75%       12.000000\n",
       "max    51881.000000"
      ]
     },
     "execution_count": 52,
     "metadata": {},
     "output_type": "execute_result"
    }
   ],
   "source": [
    "products.describe()"
   ]
  },
  {
   "cell_type": "markdown",
   "metadata": {},
   "source": [
    "We observe that 60% of the videos have been rated by 5 or more users:"
   ]
  },
  {
   "cell_type": "code",
   "execution_count": 107,
   "metadata": {},
   "outputs": [
    {
     "data": {
      "text/plain": [
       "0.00        1.00\n",
       "0.01        1.00\n",
       "0.02        1.00\n",
       "0.03        1.00\n",
       "0.04        1.00\n",
       "0.05        1.00\n",
       "0.10        1.00\n",
       "0.25        1.00\n",
       "0.50        3.00\n",
       "0.60        5.00\n",
       "0.75       12.00\n",
       "0.80       18.00\n",
       "0.90       50.00\n",
       "0.95      128.00\n",
       "0.96      169.00\n",
       "0.97      241.92\n",
       "0.98      385.00\n",
       "0.99      770.00\n",
       "1.00    51881.00\n",
       "Name: count_item, dtype: float64"
      ]
     },
     "execution_count": 107,
     "metadata": {},
     "output_type": "execute_result"
    }
   ],
   "source": [
    "#Products quantiles:\n",
    "products['count_item'].quantile(quantiles)"
   ]
  },
  {
   "cell_type": "code",
   "execution_count": 105,
   "metadata": {},
   "outputs": [
    {
     "data": {
      "image/png": "[encoded data removed]",
      "text/plain": [
       "<Figure size 432x288 with 1 Axes>"
      ]
     },
     "metadata": {
      "needs_background": "light"
     },
     "output_type": "display_data"
    }
   ],
   "source": [
    "df.groupby('product_title')['customer_id'].count().hist(range=(0,200), color='peachpuff')\n",
    "plt.title('Number of reviews by video')\n",
    "plt.xlabel('Reviews by video')\n",
    "plt.ylabel('Frequency')\n",
    "plt.show()"
   ]
  },
  {
   "cell_type": "markdown",
   "metadata": {},
   "source": [
    "<a id='dump' />\n",
    "\n",
    "## Final Data Transformation and Upload to S3\n",
    "[(back to top)](#loading)"
   ]
  },
  {
   "cell_type": "markdown",
   "metadata": {},
   "source": [
    "Create a timestamp variable"
   ]
  },
  {
   "cell_type": "code",
   "execution_count": 48,
   "metadata": {},
   "outputs": [],
   "source": [
    "df['timestamp']=df['review_date'].apply(lambda x: x.timestamp()).astype(int)"
   ]
  },
  {
   "cell_type": "markdown",
   "metadata": {},
   "source": [
    "Define needed columns"
   ]
  },
  {
   "cell_type": "code",
   "execution_count": 49,
   "metadata": {},
   "outputs": [],
   "source": [
    "df=df[['customer_id', 'product_title', 'timestamp', 'star_rating', 'verified_purchase']]\n",
    "df.columns=['USER_ID', 'ITEM_ID', 'TIMESTAMP', 'EVENT_RATING', 'EVENT_VERIFIED_PURCHASE']"
   ]
  },
  {
   "cell_type": "code",
   "execution_count": 50,
   "metadata": {},
   "outputs": [],
   "source": [
    "df['EVENT_TYPE']='RATING'"
   ]
  },
  {
   "cell_type": "markdown",
   "metadata": {},
   "source": [
    "Look again at duplicated values:"
   ]
  },
  {
   "cell_type": "code",
   "execution_count": 52,
   "metadata": {},
   "outputs": [
    {
     "data": {
      "text/html": [
       "<div>\n",
       "<style scoped>\n",
       "    .dataframe tbody tr th:only-of-type {\n",
       "        vertical-align: middle;\n",
       "    }\n",
       "\n",
       "    .dataframe tbody tr th {\n",
       "        vertical-align: top;\n",
       "    }\n",
       "\n",
       "    .dataframe thead th {\n",
       "        text-align: right;\n",
       "    }\n",
       "</style>\n",
       "<table border=\"1\" class=\"dataframe\">\n",
       "  <thead>\n",
       "    <tr style=\"text-align: right;\">\n",
       "      <th></th>\n",
       "      <th>USER_ID</th>\n",
       "      <th>ITEM_ID</th>\n",
       "      <th>TIMESTAMP</th>\n",
       "      <th>EVENT_RATING</th>\n",
       "      <th>EVENT_VERIFIED_PURCHASE</th>\n",
       "      <th>EVENT_TYPE</th>\n",
       "    </tr>\n",
       "  </thead>\n",
       "  <tbody>\n",
       "  </tbody>\n",
       "</table>\n",
       "</div>"
      ],
      "text/plain": [
       "Empty DataFrame\n",
       "Columns: [USER_ID, ITEM_ID, TIMESTAMP, EVENT_RATING, EVENT_VERIFIED_PURCHASE, EVENT_TYPE]\n",
       "Index: []"
      ]
     },
     "execution_count": 52,
     "metadata": {},
     "output_type": "execute_result"
    }
   ],
   "source": [
    "df[df.duplicated()]"
   ]
  },
  {
   "cell_type": "markdown",
   "metadata": {},
   "source": [
    "Final format:"
   ]
  },
  {
   "cell_type": "code",
   "execution_count": 55,
   "metadata": {},
   "outputs": [
    {
     "data": {
      "text/html": [
       "<div>\n",
       "<style scoped>\n",
       "    .dataframe tbody tr th:only-of-type {\n",
       "        vertical-align: middle;\n",
       "    }\n",
       "\n",
       "    .dataframe tbody tr th {\n",
       "        vertical-align: top;\n",
       "    }\n",
       "\n",
       "    .dataframe thead th {\n",
       "        text-align: right;\n",
       "    }\n",
       "</style>\n",
       "<table border=\"1\" class=\"dataframe\">\n",
       "  <thead>\n",
       "    <tr style=\"text-align: right;\">\n",
       "      <th></th>\n",
       "      <th>USER_ID</th>\n",
       "      <th>ITEM_ID</th>\n",
       "      <th>TIMESTAMP</th>\n",
       "      <th>EVENT_RATING</th>\n",
       "      <th>EVENT_VERIFIED_PURCHASE</th>\n",
       "      <th>EVENT_TYPE</th>\n",
       "    </tr>\n",
       "  </thead>\n",
       "  <tbody>\n",
       "    <tr>\n",
       "      <th>0</th>\n",
       "      <td>10013</td>\n",
       "      <td>Spring Breakers</td>\n",
       "      <td>1386288000</td>\n",
       "      <td>1.0</td>\n",
       "      <td>N</td>\n",
       "      <td>RATING</td>\n",
       "    </tr>\n",
       "    <tr>\n",
       "      <th>1</th>\n",
       "      <td>10018</td>\n",
       "      <td>Stardust</td>\n",
       "      <td>1397001600</td>\n",
       "      <td>4.0</td>\n",
       "      <td>N</td>\n",
       "      <td>RATING</td>\n",
       "    </tr>\n",
       "    <tr>\n",
       "      <th>2</th>\n",
       "      <td>10022</td>\n",
       "      <td>Space Buddies</td>\n",
       "      <td>1368144000</td>\n",
       "      <td>5.0</td>\n",
       "      <td>Y</td>\n",
       "      <td>RATING</td>\n",
       "    </tr>\n",
       "    <tr>\n",
       "      <th>3</th>\n",
       "      <td>10030</td>\n",
       "      <td>Kindergarten Cop</td>\n",
       "      <td>1413849600</td>\n",
       "      <td>5.0</td>\n",
       "      <td>Y</td>\n",
       "      <td>RATING</td>\n",
       "    </tr>\n",
       "    <tr>\n",
       "      <th>4</th>\n",
       "      <td>10030</td>\n",
       "      <td>Sleepless In Seattle</td>\n",
       "      <td>1420329600</td>\n",
       "      <td>5.0</td>\n",
       "      <td>N</td>\n",
       "      <td>RATING</td>\n",
       "    </tr>\n",
       "  </tbody>\n",
       "</table>\n",
       "</div>"
      ],
      "text/plain": [
       "   USER_ID               ITEM_ID   TIMESTAMP  EVENT_RATING  \\\n",
       "0    10013       Spring Breakers  1386288000           1.0   \n",
       "1    10018              Stardust  1397001600           4.0   \n",
       "2    10022         Space Buddies  1368144000           5.0   \n",
       "3    10030      Kindergarten Cop  1413849600           5.0   \n",
       "4    10030  Sleepless In Seattle  1420329600           5.0   \n",
       "\n",
       "  EVENT_VERIFIED_PURCHASE EVENT_TYPE  \n",
       "0                       N     RATING  \n",
       "1                       N     RATING  \n",
       "2                       Y     RATING  \n",
       "3                       Y     RATING  \n",
       "4                       N     RATING  "
      ]
     },
     "execution_count": 55,
     "metadata": {},
     "output_type": "execute_result"
    }
   ],
   "source": [
    "df.head()"
   ]
  },
  {
   "cell_type": "markdown",
   "metadata": {},
   "source": [
    "### Display overall statistics"
   ]
  },
  {
   "cell_type": "code",
   "execution_count": 57,
   "metadata": {},
   "outputs": [],
   "source": [
    "epi_stats = pd.DataFrame(df['ITEM_ID'].value_counts()).describe()\n",
    "epu_stats = pd.DataFrame(df['USER_ID'].value_counts()).describe()"
   ]
  },
  {
   "cell_type": "code",
   "execution_count": 58,
   "metadata": {},
   "outputs": [
    {
     "name": "stdout",
     "output_type": "stream",
     "text": [
      "77,535 items\n",
      "1,513,569 users\n",
      "2,828,960 interactions\n",
      "reviews per item    (median/mean/stdev) 36.49/3.00/322.38\n",
      "reviews per user    (median/mean/stdev) 1.87/1.00/3.34\n"
     ]
    }
   ],
   "source": [
    "item_count = df['ITEM_ID'].nunique()\n",
    "user_count = df['USER_ID'].nunique()\n",
    "interaction_count = df.shape[0]\n",
    "\n",
    "print('{:,} items\\n{:,} users\\n{:,} interactions'.format(item_count, \n",
    "                                                                user_count, \n",
    "                                                                interaction_count))\n",
    "\n",
    "print('reviews per item    (median/mean/stdev) {:.2f}/{:.2f}/{:.2f}'.format(epi_stats.loc['mean'].values[0],\n",
    "                                                                           epi_stats.loc['50%'].values[0],\n",
    "                                                                           epi_stats.loc['std'].values[0]))\n",
    "print('reviews per user    (median/mean/stdev) {:.2f}/{:.2f}/{:.2f}'.format(epu_stats.loc['mean'].values[0],\n",
    "                                                                           epu_stats.loc['50%'].values[0],\n",
    "                                                                           epu_stats.loc['std'].values[0]))"
   ]
  },
  {
   "cell_type": "markdown",
   "metadata": {},
   "source": [
    "### Save data to S3 and expanded interactions to local csv"
   ]
  },
  {
   "cell_type": "code",
   "execution_count": 59,
   "metadata": {},
   "outputs": [],
   "source": [
    "bucket='checkride-mfcs-aiml'\n",
    "prefix='tidy_data'\n",
    "interactions_filename = 'movies-interactions.csv'"
   ]
  },
  {
   "cell_type": "code",
   "execution_count": 60,
   "metadata": {},
   "outputs": [],
   "source": [
    "df.to_csv(interactions_filename, index=False)\n",
    "boto3.Session().resource('s3').Bucket(bucket).Object('{}/{}'.format(prefix, interactions_filename)).upload_file(interactions_filename)"
   ]
  }
 ],
 "metadata": {
  "kernelspec": {
   "display_name": "Python 3",
   "language": "python",
   "name": "python3"
  },
  "language_info": {
   "codemirror_mode": {
    "name": "ipython",
    "version": 3
   },
   "file_extension": ".py",
   "mimetype": "text/x-python",
   "name": "python",
   "nbconvert_exporter": "python",
   "pygments_lexer": "ipython3",
   "version": "3.7.6"
  }
 },
 "nbformat": 4,
 "nbformat_minor": 2
}
