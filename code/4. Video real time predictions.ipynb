{
 "cells": [
  {
   "cell_type": "markdown",
   "metadata": {},
   "source": [
    "# Using Personalize campaigns for making real-time predictions\n",
    "This notebook exercises the campaign that have been built in the other notebooks. \n"
   ]
  },
  {
   "cell_type": "markdown",
   "metadata": {},
   "source": [
    "<a id='contents' />\n",
    "\n",
    "## Content Table\n",
    "\n",
    "1. [Loading libraries and data](#loading)\n",
    "2. [Exercise the hrnn-metadata campaign](#campaign)\n",
    "2. [Use real time events](#realtime)"
   ]
  },
  {
   "cell_type": "markdown",
   "metadata": {},
   "source": [
    "<a id='loading' />\n",
    "\n",
    "## Loading libraries and data\n",
    "[(back to top)](#contents)"
   ]
  },
  {
   "cell_type": "code",
   "execution_count": 2,
   "metadata": {},
   "outputs": [
    {
     "name": "stdout",
     "output_type": "stream",
     "text": [
      "us-east-1\n"
     ]
    }
   ],
   "source": [
    "account_num = '<YOUR_ACCOUNT_NUMBER>'\n",
    "import json\n",
    "import boto3\n",
    "import time\n",
    "import datetime\n",
    "import pandas as pd\n",
    "from sklearn.utils import shuffle\n",
    "import uuid\n",
    "\n",
    "region   = boto3.Session().region_name \n",
    "print(region)\n",
    "\n",
    "#The dataset group name defined in previous notebooks\n",
    "dataset_group_name = 'video-dataset-group'\n",
    "dg_arn = 'arn:aws:personalize:{}:{}:dataset-group/{}'.format(region, \n",
    "                                                             account_num, \n",
    "                                                             dataset_group_name)\n",
    "\n",
    "#The interactions filename\n",
    "interactions_filename = 'movies-interactions.csv'\n",
    "\n",
    "#The ARN of the hrnn-metadata-hpo campaign, created in the previous notebook\n",
    "hrnn_metadata_hpo_arn   = 'arn:aws:personalize:{}:{}:campaign/video-hrnn-metadata-hpo'.format(region, account_num)"
   ]
  },
  {
   "cell_type": "code",
   "execution_count": 3,
   "metadata": {},
   "outputs": [],
   "source": [
    "personalize           = boto3.client('personalize')\n",
    "personalize_runtime   = boto3.client('personalize-runtime')\n",
    "personalize_events    = boto3.client('personalize-events')"
   ]
  },
  {
   "cell_type": "markdown",
   "metadata": {},
   "source": [
    "Function to convert timestamp to datetime in string format:"
   ]
  },
  {
   "cell_type": "code",
   "execution_count": 6,
   "metadata": {},
   "outputs": [],
   "source": [
    "def date_to_string(ts):\n",
    "    return datetime.datetime.fromtimestamp(ts).strftime('%Y-%m-%d %H:%M:%S')"
   ]
  },
  {
   "cell_type": "markdown",
   "metadata": {},
   "source": [
    "Read the data"
   ]
  },
  {
   "cell_type": "code",
   "execution_count": 8,
   "metadata": {},
   "outputs": [],
   "source": [
    "int_expanded_df = pd.read_csv(interactions_filename)\n",
    "int_expanded_df['WHEN'] = int_expanded_df['TIMESTAMP'].apply(date_to_string)"
   ]
  },
  {
   "cell_type": "markdown",
   "metadata": {},
   "source": [
    "<a id='campaign' />\n",
    "\n",
    "## Exercise the hrnn-metadata campaign\n",
    "[(back to top)](#contents)\n",
    "\n",
    "Here we try out the hrnn-metadata campaign. \n",
    "We ask Personalize for recommendations for a particular user. "
   ]
  },
  {
   "cell_type": "markdown",
   "metadata": {},
   "source": [
    "**Definition of some important functions**"
   ]
  },
  {
   "cell_type": "markdown",
   "metadata": {},
   "source": [
    "Retrieve the previous history of revies an item, given the item ID and the interactions dataset"
   ]
  },
  {
   "cell_type": "code",
   "execution_count": 4,
   "metadata": {},
   "outputs": [],
   "source": [
    "def show_item_interaction_history(int_df, item_id):\n",
    "    _tmp_df = int_df[int_df.ITEM_ID == item_id].sort_values('TIMESTAMP')\n",
    "    print('Interactions: ',len(_tmp_df))\n",
    "    return _tmp_df[['USER_ID','ITEM_ID','WHEN']]"
   ]
  },
  {
   "cell_type": "markdown",
   "metadata": {},
   "source": [
    "Retrieve the previous history of a user, given the user ID and the interactions dataset"
   ]
  },
  {
   "cell_type": "code",
   "execution_count": 5,
   "metadata": {},
   "outputs": [],
   "source": [
    "def show_user_interaction_history(int_df, user_id):\n",
    "    _tmp_df = int_df[int_df.USER_ID == int(user_id)].sort_values('TIMESTAMP')\n",
    "    print('Interactions: ',len(_tmp_df))\n",
    "    return _tmp_df[['USER_ID','ITEM_ID','WHEN']]"
   ]
  },
  {
   "cell_type": "markdown",
   "metadata": {},
   "source": [
    "Verify if the campaign is active given the ARN"
   ]
  },
  {
   "cell_type": "code",
   "execution_count": 7,
   "metadata": {},
   "outputs": [],
   "source": [
    "def is_campaign_active(c):\n",
    "    _is_active = False\n",
    "    \n",
    "    try:\n",
    "        _resp = personalize.describe_campaign(campaignArn = c)\n",
    "        _campaign_status = _resp['campaign']['status']\n",
    "        if _campaign_status == 'ACTIVE':\n",
    "            _is_active = True\n",
    "    except Exception as e:\n",
    "        pass\n",
    "        \n",
    "    return _is_active"
   ]
  },
  {
   "cell_type": "markdown",
   "metadata": {},
   "source": [
    "Print an item in the following format:"
   ]
  },
  {
   "cell_type": "code",
   "execution_count": 10,
   "metadata": {},
   "outputs": [],
   "source": [
    "def print_item(item_id):\n",
    "    print('Item: {}'.format(item_id))"
   ]
  },
  {
   "cell_type": "markdown",
   "metadata": {},
   "source": [
    "**Define a sample of users to get recommendations for:**"
   ]
  },
  {
   "cell_type": "code",
   "execution_count": 12,
   "metadata": {},
   "outputs": [
    {
     "data": {
      "text/html": [
       "<div>\n",
       "<style scoped>\n",
       "    .dataframe tbody tr th:only-of-type {\n",
       "        vertical-align: middle;\n",
       "    }\n",
       "\n",
       "    .dataframe tbody tr th {\n",
       "        vertical-align: top;\n",
       "    }\n",
       "\n",
       "    .dataframe thead th {\n",
       "        text-align: right;\n",
       "    }\n",
       "</style>\n",
       "<table border=\"1\" class=\"dataframe\">\n",
       "  <thead>\n",
       "    <tr style=\"text-align: right;\">\n",
       "      <th></th>\n",
       "      <th>USER_ID</th>\n",
       "    </tr>\n",
       "  </thead>\n",
       "  <tbody>\n",
       "    <tr>\n",
       "      <th>1276031</th>\n",
       "      <td>24765170</td>\n",
       "    </tr>\n",
       "    <tr>\n",
       "      <th>1839317</th>\n",
       "      <td>37197598</td>\n",
       "    </tr>\n",
       "    <tr>\n",
       "      <th>1409884</th>\n",
       "      <td>27598168</td>\n",
       "    </tr>\n",
       "  </tbody>\n",
       "</table>\n",
       "</div>"
      ],
      "text/plain": [
       "          USER_ID\n",
       "1276031  24765170\n",
       "1839317  37197598\n",
       "1409884  27598168"
      ]
     },
     "execution_count": 12,
     "metadata": {},
     "output_type": "execute_result"
    }
   ],
   "source": [
    "users_to_try = int_expanded_df.sample(10)\n",
    "users_to_try[['USER_ID']].head(3)"
   ]
  },
  {
   "cell_type": "markdown",
   "metadata": {},
   "source": [
    "Example of interaction history for 3 of the users:"
   ]
  },
  {
   "cell_type": "code",
   "execution_count": 13,
   "metadata": {},
   "outputs": [
    {
     "name": "stdout",
     "output_type": "stream",
     "text": [
      "Interactions:  3\n"
     ]
    },
    {
     "data": {
      "text/html": [
       "<div>\n",
       "<style scoped>\n",
       "    .dataframe tbody tr th:only-of-type {\n",
       "        vertical-align: middle;\n",
       "    }\n",
       "\n",
       "    .dataframe tbody tr th {\n",
       "        vertical-align: top;\n",
       "    }\n",
       "\n",
       "    .dataframe thead th {\n",
       "        text-align: right;\n",
       "    }\n",
       "</style>\n",
       "<table border=\"1\" class=\"dataframe\">\n",
       "  <thead>\n",
       "    <tr style=\"text-align: right;\">\n",
       "      <th></th>\n",
       "      <th>USER_ID</th>\n",
       "      <th>ITEM_ID</th>\n",
       "      <th>WHEN</th>\n",
       "    </tr>\n",
       "  </thead>\n",
       "  <tbody>\n",
       "    <tr>\n",
       "      <th>1276030</th>\n",
       "      <td>24765170</td>\n",
       "      <td>Extract</td>\n",
       "      <td>2015-02-20 00:00:00</td>\n",
       "    </tr>\n",
       "    <tr>\n",
       "      <th>1276031</th>\n",
       "      <td>24765170</td>\n",
       "      <td>The Cheyenne Social Club</td>\n",
       "      <td>2015-02-20 00:00:00</td>\n",
       "    </tr>\n",
       "    <tr>\n",
       "      <th>1276032</th>\n",
       "      <td>24765170</td>\n",
       "      <td>The Sons of Katie Elder</td>\n",
       "      <td>2015-02-20 00:00:00</td>\n",
       "    </tr>\n",
       "  </tbody>\n",
       "</table>\n",
       "</div>"
      ],
      "text/plain": [
       "          USER_ID                   ITEM_ID                 WHEN\n",
       "1276030  24765170                   Extract  2015-02-20 00:00:00\n",
       "1276031  24765170  The Cheyenne Social Club  2015-02-20 00:00:00\n",
       "1276032  24765170   The Sons of Katie Elder  2015-02-20 00:00:00"
      ]
     },
     "execution_count": 13,
     "metadata": {},
     "output_type": "execute_result"
    }
   ],
   "source": [
    "show_user_interaction_history(int_expanded_df, 24765170)"
   ]
  },
  {
   "cell_type": "code",
   "execution_count": 14,
   "metadata": {},
   "outputs": [
    {
     "name": "stdout",
     "output_type": "stream",
     "text": [
      "Interactions:  2\n"
     ]
    },
    {
     "data": {
      "text/html": [
       "<div>\n",
       "<style scoped>\n",
       "    .dataframe tbody tr th:only-of-type {\n",
       "        vertical-align: middle;\n",
       "    }\n",
       "\n",
       "    .dataframe tbody tr th {\n",
       "        vertical-align: top;\n",
       "    }\n",
       "\n",
       "    .dataframe thead th {\n",
       "        text-align: right;\n",
       "    }\n",
       "</style>\n",
       "<table border=\"1\" class=\"dataframe\">\n",
       "  <thead>\n",
       "    <tr style=\"text-align: right;\">\n",
       "      <th></th>\n",
       "      <th>USER_ID</th>\n",
       "      <th>ITEM_ID</th>\n",
       "      <th>WHEN</th>\n",
       "    </tr>\n",
       "  </thead>\n",
       "  <tbody>\n",
       "    <tr>\n",
       "      <th>1839316</th>\n",
       "      <td>37197598</td>\n",
       "      <td>A Lamp In The Dark - The Untold History of the...</td>\n",
       "      <td>2012-11-06 00:00:00</td>\n",
       "    </tr>\n",
       "    <tr>\n",
       "      <th>1839317</th>\n",
       "      <td>37197598</td>\n",
       "      <td>Theodore Roosevelt: A Cowboy's Ride to the Whi...</td>\n",
       "      <td>2012-11-23 00:00:00</td>\n",
       "    </tr>\n",
       "  </tbody>\n",
       "</table>\n",
       "</div>"
      ],
      "text/plain": [
       "          USER_ID                                            ITEM_ID  \\\n",
       "1839316  37197598  A Lamp In The Dark - The Untold History of the...   \n",
       "1839317  37197598  Theodore Roosevelt: A Cowboy's Ride to the Whi...   \n",
       "\n",
       "                        WHEN  \n",
       "1839316  2012-11-06 00:00:00  \n",
       "1839317  2012-11-23 00:00:00  "
      ]
     },
     "execution_count": 14,
     "metadata": {},
     "output_type": "execute_result"
    }
   ],
   "source": [
    "show_user_interaction_history(int_expanded_df, 37197598)"
   ]
  },
  {
   "cell_type": "code",
   "execution_count": 65,
   "metadata": {},
   "outputs": [
    {
     "name": "stdout",
     "output_type": "stream",
     "text": [
      "Interactions:  3\n"
     ]
    },
    {
     "data": {
      "text/html": [
       "<div>\n",
       "<style scoped>\n",
       "    .dataframe tbody tr th:only-of-type {\n",
       "        vertical-align: middle;\n",
       "    }\n",
       "\n",
       "    .dataframe tbody tr th {\n",
       "        vertical-align: top;\n",
       "    }\n",
       "\n",
       "    .dataframe thead th {\n",
       "        text-align: right;\n",
       "    }\n",
       "</style>\n",
       "<table border=\"1\" class=\"dataframe\">\n",
       "  <thead>\n",
       "    <tr style=\"text-align: right;\">\n",
       "      <th></th>\n",
       "      <th>USER_ID</th>\n",
       "      <th>ITEM_ID</th>\n",
       "      <th>WHEN</th>\n",
       "    </tr>\n",
       "  </thead>\n",
       "  <tbody>\n",
       "    <tr>\n",
       "      <th>1409884</th>\n",
       "      <td>27598168</td>\n",
       "      <td>Monsters</td>\n",
       "      <td>2014-04-29 00:00:00</td>\n",
       "    </tr>\n",
       "    <tr>\n",
       "      <th>1409885</th>\n",
       "      <td>27598168</td>\n",
       "      <td>Quigley Down Under</td>\n",
       "      <td>2014-07-18 00:00:00</td>\n",
       "    </tr>\n",
       "    <tr>\n",
       "      <th>1409883</th>\n",
       "      <td>27598168</td>\n",
       "      <td>Cast Away</td>\n",
       "      <td>2014-11-17 00:00:00</td>\n",
       "    </tr>\n",
       "  </tbody>\n",
       "</table>\n",
       "</div>"
      ],
      "text/plain": [
       "          USER_ID             ITEM_ID                 WHEN\n",
       "1409884  27598168            Monsters  2014-04-29 00:00:00\n",
       "1409885  27598168  Quigley Down Under  2014-07-18 00:00:00\n",
       "1409883  27598168           Cast Away  2014-11-17 00:00:00"
      ]
     },
     "execution_count": 65,
     "metadata": {},
     "output_type": "execute_result"
    }
   ],
   "source": [
    "show_user_interaction_history(int_expanded_df, 27598168)"
   ]
  },
  {
   "cell_type": "markdown",
   "metadata": {},
   "source": [
    "Getting recommendations for these 10 users:"
   ]
  },
  {
   "cell_type": "code",
   "execution_count": 17,
   "metadata": {},
   "outputs": [
    {
     "name": "stdout",
     "output_type": "stream",
     "text": [
      "Getting recommendations for user: 24765170\n",
      "Item: In Harm's Way\n",
      "Item: Hondo\n",
      "Item: Stand Up Guys\n",
      "Item: Pilot\n",
      "Item: Patriot Games\n",
      "Item: Skyfall\n",
      "Item: The Last Stand\n",
      "Item: How To Steal A Million\n",
      "Item: Flight\n",
      "Item: Tucker: The Man and His Dream\n",
      "\n",
      "Getting recommendations for user: 37197598\n",
      "Item: Pilot\n",
      "Item: Fat Man and Little Boy\n",
      "Item: Star Trek: Nemesis\n",
      "Item: Broken Arrow (1950)\n",
      "Item: The Russian German War - Part 1\n",
      "Item: Rommel - The Complete First Season\n",
      "Item: Beverly Hills Cop III\n",
      "Item: Force 10 from Navarone\n",
      "Item: When Worlds Collide\n",
      "Item: The Enemy Below\n",
      "\n",
      "Getting recommendations for user: 27598168\n",
      "Item: Jack Reacher\n",
      "Item: Sherlock Holmes (2009)\n",
      "Item: Pilot\n",
      "Item: World War Z\n",
      "Item: Star Trek Into Darkness (Plus Bonus Features)\n",
      "Item: Skyfall\n",
      "Item: Marvel's The Avengers\n",
      "Item: The Last Stand\n",
      "Item: The Hunger Games: Catching Fire\n",
      "Item: The Magnificent Seven\n",
      "\n",
      "Getting recommendations for user: 11195838\n",
      "Item: Pilot\n",
      "Item: The Ouija Experiment\n",
      "Item: JESSABELLE\n",
      "Item: \"As Above, So Below\"\n",
      "Item: The Possession of Michael King\n",
      "Item: Hercules (2014 Extended Cut)\n",
      "Item: Annabelle\n",
      "Item: Deliver Us From Evil\n",
      "Item: The Taking of Deborah Logan\n",
      "Item: The Babadook\n",
      "\n",
      "Getting recommendations for user: 37977111\n",
      "Item: Whiplash\n",
      "Item: The Theory of Everything\n",
      "Item: Nightcrawler\n",
      "Item: The New Yorker Presents - Season 1\n",
      "Item: St. Vincent\n",
      "Item: Foxcatcher\n",
      "Item: Boyhood\n",
      "Item: Cocked\n",
      "Item: Bosch Season 1\n",
      "Item: Rosewater\n",
      "\n",
      "Getting recommendations for user: 50694552\n",
      "Item: \"Under The Dome, Season 2\"\n",
      "Item: Pilot\n",
      "Item: Bosch Season 1\n",
      "Item: Falling Skies Season 4\n",
      "Item: Alphas Season 1\n",
      "Item: Defiance Season 1\n",
      "Item: Jericho Season 2\n",
      "Item: Primeval Season 3\n",
      "Item: Falling Skies Season 3\n",
      "Item: \"Prime Suspect, Series 1\"\n",
      "\n",
      "Getting recommendations for user: 20564024\n",
      "Item: The Drop\n",
      "Item: The Homesman\n",
      "Item: Lucy\n",
      "Item: Atticus Institute\n",
      "Item: Fury\n",
      "Item: Gone Girl\n",
      "Item: [REC] 4: Apocalypse (English Subtitles)\n",
      "Item: Exists\n",
      "Item: Felony\n",
      "Item: The House at the End of Time\n",
      "\n",
      "Getting recommendations for user: 4740707\n",
      "Item: The League Season 3\n",
      "Item: Kroll Show Season 2\n",
      "Item: The League Season 4\n",
      "Item: The League Season 2\n",
      "Item: Key & Peele Season 3\n",
      "Item: Adam Devine's House Party Season 1\n",
      "Item: Eastbound & Down: Season 4\n",
      "Item: It's Always Sunny in Philadelphia Season 5\n",
      "Item: The League Season 5\n",
      "Item: Californication Season 5\n",
      "\n",
      "Getting recommendations for user: 28077888\n",
      "Item: Mad Dogs\n",
      "Item: Point of Honor\n",
      "Item: Cocked\n",
      "Item: Salem Rogers: Model of the Year 1998\n",
      "Item: The New Yorker Presents - Season 1\n",
      "Item: Down Dog\n",
      "Item: Bosch Season 1\n",
      "Item: 2015 Amazon Pilots Preview\n",
      "Item: Red Oaks Season 1\n",
      "Item: Pilot\n",
      "\n",
      "Getting recommendations for user: 21397235\n",
      "Item: Bosch Season 1\n",
      "Item: Deadwood Season 3\n",
      "Item: Mad Dogs\n",
      "Item: Mozart in the Jungle Season 1\n",
      "Item: Pilot\n",
      "Item: Falling Skies Season 4\n",
      "Item: Eastbound & Down: Season 4\n",
      "Item: Transparent Season 1\n",
      "Item: Bad Country\n",
      "Item: Eastbound & Down: Season 2\n",
      "\n"
     ]
    }
   ],
   "source": [
    "if is_campaign_active(hrnn_metadata_hpo_arn):\n",
    "    for i in range(10):\n",
    "        user_id     = str(users_to_try.iloc[i]['USER_ID'])\n",
    "\n",
    "        print('Getting recommendations for user: {}'.format(user_id))\n",
    "        response = personalize_runtime.get_recommendations(campaignArn=hrnn_metadata_hpo_arn, \n",
    "                                                           userId=user_id, \n",
    "                                                           numResults=10)\n",
    "\n",
    "        items = response['itemList']\n",
    "        for item in items:\n",
    "            _curr_item_id  = item['itemId']\n",
    "            print_item(_curr_item_id)\n",
    "        print('')\n",
    "else:\n",
    "    print('HRNN-metadata campaign not active: {}'.format(hrnn_metadata_arn))"
   ]
  },
  {
   "cell_type": "markdown",
   "metadata": {},
   "source": [
    "<a id='realtime' />\n",
    "\n",
    "## Use real time events\n",
    "[(back to top)](#contents)\n",
    "\n",
    "Here we use the event tracker mechanism of personalize to add some events on the fly after deployment of \n",
    "a campaign. We then show the impact on the recommendations, demonstrating that Personalize is able to \n",
    "react to changing user preferences on the fly."
   ]
  },
  {
   "cell_type": "code",
   "execution_count": 18,
   "metadata": {},
   "outputs": [],
   "source": [
    "#Name of the Personalize event Tracker we will create\n",
    "tracker_name='VideoReviewTracker'"
   ]
  },
  {
   "cell_type": "markdown",
   "metadata": {},
   "source": [
    "Function for verifying if the tracker is already active:"
   ]
  },
  {
   "cell_type": "code",
   "execution_count": 19,
   "metadata": {},
   "outputs": [],
   "source": [
    "def is_tracker_active(tracker_name):\n",
    "    _is_active = False\n",
    "    _event_tracker_arn = ''\n",
    "    _tracking_id = ''\n",
    "\n",
    "    resp = personalize.list_event_trackers()\n",
    "    trackers = resp['eventTrackers']\n",
    "\n",
    "    for t in trackers:\n",
    "        if t['name'] == tracker_name:\n",
    "            _is_active = True\n",
    "            _event_tracker_arn = t['eventTrackerArn']\n",
    "            d_resp = personalize.describe_event_tracker(eventTrackerArn = _event_tracker_arn)\n",
    "\n",
    "            _tracking_id = d_resp['eventTracker']['trackingId']\n",
    "    \n",
    "    return _is_active, _event_tracker_arn, _tracking_id"
   ]
  },
  {
   "cell_type": "markdown",
   "metadata": {},
   "source": [
    "Create the event tracker if it doesn't exist yet."
   ]
  },
  {
   "cell_type": "code",
   "execution_count": 20,
   "metadata": {},
   "outputs": [
    {
     "name": "stdout",
     "output_type": "stream",
     "text": [
      "arn:aws:personalize:us-east-1:386102487792:event-tracker/76a6a31f\n",
      "caad6661-6573-4ebd-81ec-53114d8b78d4\n"
     ]
    }
   ],
   "source": [
    "(exists, tracker_arn, tracking_id) = is_tracker_active(tracker_name)\n",
    "if not exists:\n",
    "    response = personalize.create_event_tracker(\n",
    "        name=tracker_name,\n",
    "        datasetGroupArn=dg_arn\n",
    "    )\n",
    "    print(response['eventTrackerArn'])\n",
    "    print(response['trackingId'])\n",
    "\n",
    "    TRACKING_ID = response['trackingId']\n",
    "else:\n",
    "    TRACKING_ID = tracking_id"
   ]
  },
  {
   "cell_type": "markdown",
   "metadata": {},
   "source": [
    "**Definition of important functions:**"
   ]
  },
  {
   "cell_type": "markdown",
   "metadata": {},
   "source": [
    "Function for defining the user session identifier:"
   ]
  },
  {
   "cell_type": "code",
   "execution_count": 23,
   "metadata": {},
   "outputs": [],
   "source": [
    "session_dict = {}\n",
    "def configure_session(user_id):\n",
    "    # Configure Session\n",
    "    try:\n",
    "        _session_ID = session_dict[user_id]\n",
    "    except:\n",
    "        session_dict[user_id] = str(uuid.uuid1())\n",
    "        _session_ID = session_dict[user_id]\n",
    "    return _session_ID"
   ]
  },
  {
   "cell_type": "markdown",
   "metadata": {},
   "source": [
    "Function for sending the review with the created event tracker:"
   ]
  },
  {
   "cell_type": "code",
   "execution_count": 36,
   "metadata": {},
   "outputs": [],
   "source": [
    "def send_new_review(user_id, item_id, timestamp, event_rating, event_verified_purchase, event_type):\n",
    "      \n",
    "    session_id = configure_session(user_id)\n",
    "    \n",
    "    # Configure Properties:\n",
    "    event = {\n",
    "        'itemId': str(item_id),\n",
    "        'eventRating': event_rating,\n",
    "        'eventVerifiedPurchase': event_verified_purchase    \n",
    "    }\n",
    "    event_json = json.dumps(event)\n",
    "        \n",
    "    # Make Call\n",
    "    personalize_events.put_events(\n",
    "        trackingId = TRACKING_ID,\n",
    "        userId     = str(user_id),\n",
    "        sessionId  = session_id,\n",
    "        eventList  = [{\n",
    "            'sentAt': timestamp,\n",
    "            'eventType': event_type,\n",
    "            'properties': event_json\n",
    "            }]\n",
    "    )"
   ]
  },
  {
   "cell_type": "markdown",
   "metadata": {},
   "source": [
    "Function for recommending items to a user ID with a given campaign:"
   ]
  },
  {
   "cell_type": "code",
   "execution_count": 37,
   "metadata": {},
   "outputs": [],
   "source": [
    "def recommend_items(user_id, campaign_arn):\n",
    "    response = personalize_runtime.get_recommendations(campaignArn=campaign_arn, \n",
    "                                                       userId=str(user_id), \n",
    "                                                       numResults=10)\n",
    "    items = response['itemList']\n",
    "    for item in items:\n",
    "        print_item(item['itemId'])\n",
    "    print('')"
   ]
  },
  {
   "cell_type": "markdown",
   "metadata": {},
   "source": [
    "### Sending new reviews as events:"
   ]
  },
  {
   "cell_type": "markdown",
   "metadata": {},
   "source": [
    "We will use a sample user:"
   ]
  },
  {
   "cell_type": "code",
   "execution_count": 62,
   "metadata": {},
   "outputs": [
    {
     "name": "stdout",
     "output_type": "stream",
     "text": [
      "Here is a sample user for exercising real time events:  47965132\n"
     ]
    }
   ],
   "source": [
    "sample_user = int_expanded_df.sample(1).iloc[0]['USER_ID']\n",
    "print('Here is a sample user for exercising real time events: ', sample_user)"
   ]
  },
  {
   "cell_type": "markdown",
   "metadata": {},
   "source": [
    "Previous interactions of this user:"
   ]
  },
  {
   "cell_type": "code",
   "execution_count": 63,
   "metadata": {},
   "outputs": [
    {
     "name": "stdout",
     "output_type": "stream",
     "text": [
      "Interactions:  1\n"
     ]
    },
    {
     "data": {
      "text/html": [
       "<div>\n",
       "<style scoped>\n",
       "    .dataframe tbody tr th:only-of-type {\n",
       "        vertical-align: middle;\n",
       "    }\n",
       "\n",
       "    .dataframe tbody tr th {\n",
       "        vertical-align: top;\n",
       "    }\n",
       "\n",
       "    .dataframe thead th {\n",
       "        text-align: right;\n",
       "    }\n",
       "</style>\n",
       "<table border=\"1\" class=\"dataframe\">\n",
       "  <thead>\n",
       "    <tr style=\"text-align: right;\">\n",
       "      <th></th>\n",
       "      <th>USER_ID</th>\n",
       "      <th>ITEM_ID</th>\n",
       "      <th>WHEN</th>\n",
       "    </tr>\n",
       "  </thead>\n",
       "  <tbody>\n",
       "    <tr>\n",
       "      <th>2433478</th>\n",
       "      <td>47965132</td>\n",
       "      <td>A Christmas Story (1983)</td>\n",
       "      <td>2014-12-23 00:00:00</td>\n",
       "    </tr>\n",
       "  </tbody>\n",
       "</table>\n",
       "</div>"
      ],
      "text/plain": [
       "          USER_ID                   ITEM_ID                 WHEN\n",
       "2433478  47965132  A Christmas Story (1983)  2014-12-23 00:00:00"
      ]
     },
     "execution_count": 63,
     "metadata": {},
     "output_type": "execute_result"
    }
   ],
   "source": [
    "show_user_interaction_history(int_expanded_df, sample_user)"
   ]
  },
  {
   "cell_type": "markdown",
   "metadata": {},
   "source": [
    "Before sending new real-time vents, we will retrieve the Personalize recommendations for this user:"
   ]
  },
  {
   "cell_type": "code",
   "execution_count": 32,
   "metadata": {},
   "outputs": [
    {
     "name": "stdout",
     "output_type": "stream",
     "text": [
      "Before any real time events, Personalize should recommend:\n",
      "Next using arn:aws:personalize:us-east-1:386102487792:campaign/video-hrnn-metadata-hpo\n",
      "\n",
      "Item: Zero Dark Thirty\n",
      "Item: Life of Pi\n",
      "Item: Django Unchained\n",
      "Item: Lincoln\n",
      "Item: End of Watch\n",
      "Item: Argo\n",
      "Item: Beasts of the Southern Wild\n",
      "Item: Here Comes The Boom\n",
      "Item: Trouble With The Curve\n",
      "Item: Taken 2\n",
      "\n"
     ]
    }
   ],
   "source": [
    "print('Before any real time events, Personalize should recommend:')\n",
    "if is_campaign_active(hrnn_metadata_hpo_arn):\n",
    "    print('Next using {}\\n'.format(hrnn_metadata_hpo_arn))\n",
    "    recommend_items(sample_user, hrnn_metadata_hpo_arn)\n",
    "else:\n",
    "    print('HRNN-metadata campaign not active: {}'.format(hrnn_metadata_hpo_arn))"
   ]
  },
  {
   "cell_type": "markdown",
   "metadata": {},
   "source": [
    "We will send new reviews with the event tracker:"
   ]
  },
  {
   "cell_type": "code",
   "execution_count": 40,
   "metadata": {},
   "outputs": [],
   "source": [
    "new_items_reviewed=\"Pilot\"\n",
    "timestamp=time.time()\n",
    "send_new_review(sample_user, new_items_reviewed, timestamp, 5, 'Y', 'RATING')"
   ]
  },
  {
   "cell_type": "markdown",
   "metadata": {},
   "source": [
    "Recommendations after new item review:"
   ]
  },
  {
   "cell_type": "code",
   "execution_count": 45,
   "metadata": {},
   "outputs": [
    {
     "name": "stdout",
     "output_type": "stream",
     "text": [
      "Now this same user has reviewed Pilot\n",
      "Lets see if Personalize picks up on this real time change in intent...\n",
      "\n",
      "Next using arn:aws:personalize:us-east-1:386102487792:campaign/video-hrnn-metadata-hpo\n",
      "\n",
      "Item: Stargate SG-1 Season 3\n",
      "Item: Doctor Who: Last Christmas\n",
      "Item: The Man In the High Castle - Season 1\n",
      "Item: Stargate SG-1 Season 6\n",
      "Item: Robocop (2014)\n",
      "Item: Stargate Atlantis Season 2\n",
      "Item: Stargate SG-1 Season 4\n",
      "Item: Stargate Atlantis Season 4\n",
      "Item: Grimm Season 3\n",
      "Item: Stargate Universe Season 2\n",
      "\n"
     ]
    }
   ],
   "source": [
    "print('Now this same user has reviewed {}'.format(new_items_reviewed))\n",
    "print('Lets see if Personalize picks up on this real time change in intent...\\n')\n",
    "\n",
    "if is_campaign_active(hrnn_metadata_hpo_arn):\n",
    "    print('Next using {}\\n'.format(hrnn_metadata_hpo_arn))\n",
    "    recommend_items(sample_user, hrnn_metadata_hpo_arn)\n",
    "else:\n",
    "    print('HRNN-metadata campaign not active: {}'.format(hrnn_metadata_hpo_arn))"
   ]
  },
  {
   "cell_type": "markdown",
   "metadata": {},
   "source": [
    "We observe that the recommendations have changed after the review made with the event tracker"
   ]
  }
 ],
 "metadata": {
  "kernelspec": {
   "display_name": "conda_python3",
   "language": "python",
   "name": "conda_python3"
  },
  "language_info": {
   "codemirror_mode": {
    "name": "ipython",
    "version": 3
   },
   "file_extension": ".py",
   "mimetype": "text/x-python",
   "name": "python",
   "nbconvert_exporter": "python",
   "pygments_lexer": "ipython3",
   "version": "3.6.10"
  }
 },
 "nbformat": 4,
 "nbformat_minor": 2
}
