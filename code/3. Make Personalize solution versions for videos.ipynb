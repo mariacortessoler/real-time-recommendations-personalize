{
 "cells": [
  {
   "cell_type": "markdown",
   "metadata": {},
   "source": [
    "# Make a set of Amazon Personalize solution versions and deploy a campaign\n",
    "Now that the data has been generated, the datasets have been created, and the\n",
    "data has been imported, we can create Personalize solutions, solution\n",
    "versions, and campaigns."
   ]
  },
  {
   "cell_type": "markdown",
   "metadata": {},
   "source": [
    "<a id='contents' />\n",
    "\n",
    "## Content Table\n",
    "\n",
    "1. [Loading libraries and data](#loading)\n",
    "2. [Create solution and solution versions](#solution)\n",
    "3. [Solutions versions metrics](#metrics)\n",
    "4. [Hyperparameter Optimization](#hpo)\n",
    "5. [Create campaigns](#campaigns)"
   ]
  },
  {
   "cell_type": "markdown",
   "metadata": {},
   "source": [
    "<a id='loading' />\n",
    "\n",
    "## Loading libraries and data\n",
    "[(back to top)](#contents)"
   ]
  },
  {
   "cell_type": "code",
   "execution_count": 1,
   "metadata": {},
   "outputs": [],
   "source": [
    "account_num = '<YOUR_ACCOUNT_NUMBER>'\n",
    "import json\n",
    "import boto3\n",
    "import time\n",
    "from tqdm import tqdm_notebook\n",
    "import pandas as pd\n",
    "import numpy as np\n",
    "#We import the metrics functions from the metricsPersonalize.py script.\n",
    "from metricsPersonalize import mean_reciprocal_rank, ndcg_at_k, precision_at_k\n",
    "\n",
    "region   = boto3.Session().region_name \n",
    "print(region)\n",
    "\n",
    "personalize = boto3.client('personalize')\n",
    "personalize_runtime = boto3.client('personalize-runtime')"
   ]
  },
  {
   "cell_type": "code",
   "execution_count": 3,
   "metadata": {},
   "outputs": [],
   "source": [
    "dataset_group_name = 'video-dataset-group'\n",
    "dataset_group_arn = 'arn:aws:personalize:{}:{}:dataset-group/{}'.format(region, account_num, dataset_group_name)\n",
    "\n",
    "MAX_WAIT_TIME = 60*60 \n",
    "SLEEP_TIME    = 60    "
   ]
  },
  {
   "cell_type": "markdown",
   "metadata": {},
   "source": [
    "<a id='solution' />\n",
    "\n",
    "## Create solution and solution versions\n",
    "[(back to top)](#contents)"
   ]
  },
  {
   "cell_type": "markdown",
   "metadata": {},
   "source": [
    "**Definition of important functions:**"
   ]
  },
  {
   "cell_type": "markdown",
   "metadata": {},
   "source": [
    "This function creates a new solution version in our dataset group based on a specific\n",
    "Personalize recipe. A trained model is known as a solution version. Each time you train a model, it is assigned a new solution version. "
   ]
  },
  {
   "cell_type": "code",
   "execution_count": 4,
   "metadata": {},
   "outputs": [],
   "source": [
    "#Function to verify if the solution already exists\n",
    "def solution_exists(solution_arn):\n",
    "    _exists = False\n",
    "    try:\n",
    "        _resp   = personalize.describe_solution(solutionArn = solution_arn)\n",
    "        _exists = True\n",
    "    except Exception as e:\n",
    "        pass\n",
    "        \n",
    "    return _exists"
   ]
  },
  {
   "cell_type": "code",
   "execution_count": 5,
   "metadata": {},
   "outputs": [],
   "source": [
    "#If the solution already exists, get the solution version.\n",
    "def get_existing_solution_version(recipe_arn, name):\n",
    "    _solution_version_arn = ''\n",
    "    _solution_arn = 'arn:aws:personalize:{}:{}:solution/{}'.format(region, account_num,name)\n",
    "    _status = 'UNKNOWN'\n",
    "    \n",
    "    try:\n",
    "        _resp = personalize.describe_solution(solutionArn = _solution_arn)\n",
    "        _latest_version = _resp['solution']['latestSolutionVersion']\n",
    "        _status = _latest_version['status']\n",
    "        if _status in ['CREATE IN_PROGRESS','ACTIVE']:\n",
    "            _solution_version_arn = _latest_version['solutionVersionArn']\n",
    "    except Exception as e:\n",
    "        pass\n",
    "        \n",
    "    return _solution_version_arn, _status, _solution_arn"
   ]
  },
  {
   "cell_type": "code",
   "execution_count": 6,
   "metadata": {},
   "outputs": [],
   "source": [
    "#If campaign is already created: get the campaign ARN and status\n",
    "def get_existing_campaign(recipe_arn, name):\n",
    "    _solution_version_arn = ''\n",
    "    _solution_arn = 'arn:aws:personalize:{}:{}:solution/{}'.format(region, account_num,\n",
    "                                                                   name)\n",
    "    _campaign_arn = 'arn:aws:personalize:{}:{}:campaign/{}'.format(region, account_num,\n",
    "                                                                   name)\n",
    "    _campaign_status = 'UNKNOWN'\n",
    "    \n",
    "    try:\n",
    "        _resp = personalize.describe_campaign(campaignArn = _campaign_arn)\n",
    "        _campaign_status = _resp['campaign']['status']\n",
    "        if _campaign_status in ['CREATE_IN_PROGESS','ACTIVE']:\n",
    "            _campaign_arn = _resp['campaign']['campaignArn']\n",
    "            _solution_version_arn = _resp['campaign']['solutionVersionArn']\n",
    "    except Exception as e:\n",
    "        _solution_version_arn = ''\n",
    "        _campaign_arn = ''\n",
    "        \n",
    "    return _solution_version_arn, _solution_arn, _campaign_status, _campaign_arn"
   ]
  },
  {
   "cell_type": "code",
   "execution_count": 7,
   "metadata": {},
   "outputs": [],
   "source": [
    "#Wait for Solution Version to Have Active Status\n",
    "def wait_for_solution_version(solution_version_arn, name):\n",
    "    _latest_time = time.time() + MAX_WAIT_TIME\n",
    "    _first_time_through = True\n",
    "    \n",
    "    while time.time() < _latest_time:\n",
    "        describe_solution_version_response = personalize.describe_solution_version(\n",
    "            solutionVersionArn = solution_version_arn\n",
    "        )\n",
    "        _status = describe_solution_version_response['solutionVersion']['status']\n",
    "\n",
    "        if _status in ['ACTIVE', 'CREATE FAILED']:\n",
    "            if _status == 'CREATE FAILED':\n",
    "                print('*** Solution version creation failed ***')\n",
    "            break\n",
    "\n",
    "        print('SolutionVersion: {} - {}...'.format(name, _status))\n",
    "        time.sleep(SLEEP_TIME)"
   ]
  },
  {
   "cell_type": "markdown",
   "metadata": {},
   "source": [
    "**Create a single solution version**"
   ]
  },
  {
   "cell_type": "code",
   "execution_count": 8,
   "metadata": {},
   "outputs": [],
   "source": [
    "#Create a solution version: \n",
    "def make_solution_version(recipe_arn, name, dataset_group_arn):\n",
    "    print('Entered make_solution_version for {}'.format(name))\n",
    "    \n",
    "    #Create solution\n",
    "    create_solution_response = personalize.create_solution(\n",
    "        name = name,\n",
    "        datasetGroupArn = dataset_group_arn,\n",
    "        recipeArn       = recipe_arn\n",
    "    )\n",
    "    \n",
    "    _solution_arn = create_solution_response['solutionArn']\n",
    "    time.sleep(20)\n",
    "    \n",
    "    print('created solution: {}'.format(_solution_arn))\n",
    "\n",
    "\n",
    "    #Create solution version\n",
    "    print('Creating a new solution version for solution: {}...'.format(_solution_arn))\n",
    "    create_solution_version_response = personalize.create_solution_version(\n",
    "        solutionArn = _solution_arn\n",
    "    )\n",
    "    \n",
    "    _solution_version_arn = create_solution_version_response['solutionVersionArn']\n",
    "\n",
    "    wait_for_solution_version(_solution_version_arn, name)\n",
    "        \n",
    "    print('Exiting wait for solution version for {}'.format(name))\n",
    "    return(_solution_arn, _solution_version_arn)"
   ]
  },
  {
   "cell_type": "markdown",
   "metadata": {},
   "source": [
    "**Create multiple solution versions in parallel**"
   ]
  },
  {
   "cell_type": "code",
   "execution_count": 9,
   "metadata": {},
   "outputs": [],
   "source": [
    "from multiprocessing import Process\n",
    "\n",
    "def make_solution_versions_in_parallel(recipes, dg_arn):\n",
    "    jobs = []\n",
    "    for i in recipes:\n",
    "        p = Process(target = make_solution_version, args=(i[0], i[1], dg_arn))\n",
    "        jobs.append(p)\n",
    "        \n",
    "    for p in jobs:\n",
    "        p.start()\n",
    "        \n",
    "    for p in jobs:\n",
    "        p.join()"
   ]
  },
  {
   "cell_type": "markdown",
   "metadata": {},
   "source": [
    "\n",
    "**Tried recipes:**\n",
    "\n",
    "| Use it? | Recipe | Description \n",
    "|-------- | -------- |:------------\n",
    "| Y | aws-popularity-count | Calculates popularity of items based on count of events against that item in user-item interactions dataset.\n",
    "| Y | aws-hrnn | Predicts items a user will interact with. A hierarchical recurrent neural network which can model the temporal order of user-item interactions.\n",
    "| Y | aws-hrnn-metadata | Predicts items a user will interact with. HRNN with additional features derived from contextual (user-item interaction metadata), user medata (user dataset) and item metadata (item dataset)"
   ]
  },
  {
   "cell_type": "code",
   "execution_count": 10,
   "metadata": {},
   "outputs": [],
   "source": [
    "recipes = [['arn:aws:personalize:::recipe/aws-popularity-count',       'video-popularity-count'],\n",
    "            ['arn:aws:personalize:::recipe/aws-hrnn', 'video-hrnn'],\n",
    "            ['arn:aws:personalize:::recipe/aws-hrnn-metadata',        'video-hrnn-metadata']]"
   ]
  },
  {
   "cell_type": "code",
   "execution_count": 11,
   "metadata": {},
   "outputs": [],
   "source": [
    "make_solution_versions_in_parallel(recipes, dataset_group_arn)"
   ]
  },
  {
   "cell_type": "markdown",
   "metadata": {},
   "source": [
    "<a id='metrics' />\n",
    "\n",
    "## Solutions versions metrics\n",
    "[(back to top)](#contents)"
   ]
  },
  {
   "cell_type": "code",
   "execution_count": 96,
   "metadata": {},
   "outputs": [],
   "source": [
    "def display_solution_metrics(recipes):\n",
    "    print('{}\\t{}\\t{}\\t{}\\t{}\\t{}\\t{}\\t{}'.format( 'NDCG@25', 'NDCG@10', 'NDCG@5', 'rank@25', 'prec@25', 'prec@10', 'prec@5','name'))\n",
    "    \n",
    "    for c in recipes:\n",
    "        (_solution_version_arn, _status, _solution_arn) = \\\n",
    "            get_existing_solution_version(c[0], c[1])\n",
    "        if _status != 'ACTIVE':\n",
    "            print('Solution version for {} does not exist'.format(c[1]))\n",
    "        else:\n",
    "            _get_solution_metrics_response = personalize.get_solution_metrics(\n",
    "                solutionVersionArn = _solution_version_arn\n",
    "            )\n",
    "\n",
    "            print('{:.3f}\\t{:.3f}\\t{:.3f}\\t{:.3f}\\t{:.3f}\\t{:.3f}\\t{:.3f}\\t{}'.format(\n",
    "                                          _get_solution_metrics_response['metrics']['normalized_discounted_cumulative_gain_at_25'],\n",
    "                                          _get_solution_metrics_response['metrics']['normalized_discounted_cumulative_gain_at_10'],\n",
    "                                          _get_solution_metrics_response['metrics']['normalized_discounted_cumulative_gain_at_5'],             \n",
    "                                          _get_solution_metrics_response['metrics']['mean_reciprocal_rank_at_25'],\n",
    "                                          _get_solution_metrics_response['metrics']['precision_at_25'],\n",
    "                                          _get_solution_metrics_response['metrics']['precision_at_10'],\n",
    "                                          _get_solution_metrics_response['metrics']['precision_at_5'],\n",
    "                                          c[1]\n",
    "                                         ))"
   ]
  },
  {
   "cell_type": "markdown",
   "metadata": {},
   "source": [
    "***Metrics documentation***\n",
    "\n",
    "1. **Precision_at_k**: \n",
    "The number of relevant recommendations out of the top K recommendations divided by K.\n",
    "Recommendations for user 1: A, B, C, D, E (user liked B and E, thus the precision at 5 is 2/5=0.4) \n",
    "\n",
    "2. **Mean_reciprocal_rank_at_25**:\n",
    "The mean of the reciprocal ranks of the first relevant recommendation out of the top 25 recommendations\n",
    "\n",
    "Example for mean repciprocal rank (5): \n",
    "Recommendations for user 1: A, B, C, D, E (user liked B and E, thus the Reciprocal Rank is 1/2)\n",
    "\n",
    "3. **NDCG: Normalized discount cumulative gain at K**: DCG/ideal DCG \n",
    "\n",
    "*DCG (Discounted cumulative gain at K)*: \n",
    "\n",
    "Each recommendation is discounted (given a lower weight) by a factor dependent on its position: weighting factor of 1/log(1 + position)\n",
    "Each **relevant** discounted recommendation in the top K recommendations is summed together.\n",
    "\n",
    "*Ideal DCG*: \n",
    "\n",
    "Value of DCG where top K recommendations are sorted by relevance. Each **relevant** discounted recommendation in the top K recommendations is summed together.\n"
   ]
  },
  {
   "cell_type": "code",
   "execution_count": null,
   "metadata": {},
   "outputs": [],
   "source": [
    "display_solution_metrics(recipes)"
   ]
  },
  {
   "cell_type": "markdown",
   "metadata": {},
   "source": [
    "<a id='hpo' />\n",
    "\n",
    "## Hyperparameter optimization\n",
    "[(back to top)](#contents)"
   ]
  },
  {
   "cell_type": "markdown",
   "metadata": {},
   "source": [
    "We will be tunning the following allowed hyperparameters for the book-hrnn-metadata recipe, that was the one with best performance"
   ]
  },
  {
   "cell_type": "markdown",
   "metadata": {},
   "source": [
    "**Rencency mask:**\n",
    "\n",
    "Determines whether the model should consider the latest popularity trends in the Interactions dataset. Latest popularity trends might include sudden changes in the underlying patterns of interaction events. To train a model that places more weight on recent events, set recency_mask to true. To train a model that equally weighs all past interactions, set recency_mask to false. To get good recommendations using an equal weight, you might need a larger training dataset.\n",
    "\n",
    "**bptt**:\n",
    "\n",
    "Determines whether to use the back-propagation through time technique. Back-propagation through time is a technique that updates weights in recurrent neural network-based algorithms. Use bptt for long-term credits to connect delayed rewards to early events. For example, a delayed reward can be a purchase made after several clicks. An early event can be an initial click. Even within the same event types, such as a click, it’s a good idea to consider long-term effects and maximize the total rewards. To consider long-term effects, use larger bptt values. Using a larger bptt value requires larger datasets and more time to process."
   ]
  },
  {
   "cell_type": "code",
   "execution_count": 12,
   "metadata": {},
   "outputs": [],
   "source": [
    "#Create solution versions with HPO\n",
    "\n",
    "def make_solution_version_hpo(recipe_arn, name, dataset_group_arn):\n",
    "    print('Entered make_solution_version for {}'.format(name))   \n",
    "    print('Creating new solution for {}...'.format(name))\n",
    "    \n",
    "    create_solution_response = personalize.create_solution(\n",
    "        name = name,\n",
    "        datasetGroupArn = dataset_group_arn,\n",
    "        recipeArn       = recipe_arn,\n",
    "        performHPO = True,\n",
    "        performAutoML= False\n",
    "    )\n",
    "    \n",
    "    _solution_arn = create_solution_response['solutionArn']\n",
    "    time.sleep(20)\n",
    "    print('created solution: {}'.format(_solution_arn))\n",
    "\n",
    "\n",
    "    print('Creating a new solution version for solution: {}...'.format(_solution_arn))\n",
    "    create_solution_version_response = personalize.create_solution_version(\n",
    "        solutionArn = _solution_arn\n",
    "    )\n",
    "    \n",
    "    _solution_version_arn = create_solution_version_response['solutionVersionArn']\n",
    "    wait_for_solution_version(_solution_version_arn, name)\n",
    "        \n",
    "    print('Exiting wait for solution version for {}'.format(name))\n",
    "    return(_solution_arn, _solution_version_arn)"
   ]
  },
  {
   "cell_type": "code",
   "execution_count": 13,
   "metadata": {},
   "outputs": [],
   "source": [
    "from multiprocessing import Process\n",
    "\n",
    "def make_solution_versions_hpo_in_parallel(recipes, dg_arn):\n",
    "    jobs = []\n",
    "    for i in recipes:\n",
    "        p = Process(target = make_solution_version_hpo, args=(i[0], i[1], dg_arn))\n",
    "        jobs.append(p)\n",
    "        \n",
    "    for p in jobs:\n",
    "        p.start()\n",
    "        \n",
    "    for p in jobs:\n",
    "        p.join()"
   ]
  },
  {
   "cell_type": "code",
   "execution_count": 14,
   "metadata": {},
   "outputs": [],
   "source": [
    "recipes_hpo = [['arn:aws:personalize:::recipe/aws-hrnn', 'video-hrnn-hpo'],\n",
    "             ['arn:aws:personalize:::recipe/aws-hrnn-metadata',        'video-hrnn-metadata-hpo']]"
   ]
  },
  {
   "cell_type": "code",
   "execution_count": 15,
   "metadata": {},
   "outputs": [],
   "source": [
    "make_solution_versions_hpo_in_parallel(recipes_hpo, dataset_group_arn)"
   ]
  },
  {
   "cell_type": "code",
   "execution_count": null,
   "metadata": {},
   "outputs": [],
   "source": [
    "display_solution_metrics(recipes+recipes_hpo)"
   ]
  },
  {
   "cell_type": "markdown",
   "metadata": {},
   "source": [
    "We observe that the solution with the best metrics is the HRNN-metadata with HPO."
   ]
  },
  {
   "cell_type": "markdown",
   "metadata": {},
   "source": [
    "<a id='campaigns' />\n",
    "\n",
    "## Create campaigns\n",
    "[(back to top)](#contents)"
   ]
  },
  {
   "cell_type": "markdown",
   "metadata": {},
   "source": [
    "We will create a campaign for the best solution: HRNN-metadata with HPO"
   ]
  },
  {
   "cell_type": "code",
   "execution_count": 16,
   "metadata": {},
   "outputs": [],
   "source": [
    "#Making a single campaign\n",
    "def make_campaign(recipe_arn, name):\n",
    "    print('Entered make_campaign for {}'.format(name))\n",
    "    \n",
    "    _solution_version_arn=get_existing_solution_version(recipe_arn, name)[0]\n",
    "    \n",
    "    create_campaign_response = personalize.create_campaign(\n",
    "        name = name,\n",
    "        solutionVersionArn = _solution_version_arn,\n",
    "        minProvisionedTPS = 1\n",
    "    )\n",
    "    \n",
    "    _campaign_arn = create_campaign_response['campaignArn']\n",
    "    print('Waiting for campaign to become active : {}...'.format(name))\n",
    "\n",
    "    latest_time = time.time() + MAX_WAIT_TIME\n",
    "    while time.time() < latest_time:\n",
    "        describe_campaign_response = personalize.describe_campaign(\n",
    "            campaignArn = _campaign_arn\n",
    "        )\n",
    "        status = describe_campaign_response['campaign']['status']\n",
    "        print('Campaign: {} - {}'.format(name, status))\n",
    "\n",
    "        if status == 'ACTIVE' or status == 'CREATE FAILED':\n",
    "            break\n",
    "\n",
    "        time.sleep(SLEEP_TIME)\n",
    "        \n",
    "    print('Exiting make_campaign for {}'.format(name))\n",
    "    return(_solution_version_arn, _campaign_arn)"
   ]
  },
  {
   "cell_type": "code",
   "execution_count": 17,
   "metadata": {},
   "outputs": [],
   "source": [
    "campaigns = ['arn:aws:personalize:::recipe/aws-hrnn-metadata', 'video-hrnn-metadata-hpo']"
   ]
  },
  {
   "cell_type": "code",
   "execution_count": 18,
   "metadata": {},
   "outputs": [],
   "source": [
    "make_campaign('arn:aws:personalize:::recipe/aws-hrnn-metadata', 'video-hrnn-metadata-hpo')"
   ]
  }
 ],
 "metadata": {
  "kernelspec": {
   "display_name": "Python 3",
   "language": "python",
   "name": "python3"
  },
  "language_info": {
   "codemirror_mode": {
    "name": "ipython",
    "version": 3
   },
   "file_extension": ".py",
   "mimetype": "text/x-python",
   "name": "python",
   "nbconvert_exporter": "python",
   "pygments_lexer": "ipython3",
   "version": "3.7.6"
  }
 },
 "nbformat": 4,
 "nbformat_minor": 2
}
